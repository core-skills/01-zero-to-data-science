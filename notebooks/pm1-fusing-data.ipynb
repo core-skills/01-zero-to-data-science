{
 "cells": [
  {
   "cell_type": "markdown",
   "metadata": {},
   "source": [
    "## Predicting failures from age and temperature data\n",
    "\n",
    "Let's suppose that our hypothesis is that the failure rate is tied to the age of the pipes (as given by the install year) in some way.\n",
    "\n",
    "We're going to struggle to analyse the full dataset easily so we're going to bin things up a bit to make the datasets smaller. Hopefully there's still an interesting signal!\n",
    "\n",
    "The first thing we'll do is aggregate suburb names up to postcode level. We'll also use Australia Post postcode data to generate latitudes and longitudes.\n",
    "\n",
    "Finally we'll join the postcode level age info back onto our failure data to look at whether there's something useful to predict.\n",
    "\n",
    "### Reading in age data\n",
    "\n",
    "First we're going to look at the pipe age data from ATCO. This one is much tidier than the faults data."
   ]
  },
  {
   "cell_type": "code",
   "execution_count": 1,
   "metadata": {},
   "outputs": [
    {
     "data": {
      "text/plain": [
       "'/Users/jess/Documents/Core - Data Science Workshop/repositories/01-zero-to-data-science/data'"
      ]
     },
     "execution_count": 1,
     "metadata": {},
     "output_type": "execute_result"
    }
   ],
   "source": [
    "import pandas as pd\n",
    "import seaborn\n",
    "import numpy as np\n",
    "from os import path\n",
    "\n",
    "seaborn.set()\n",
    "\n",
    "# Setting where our data is sitting\n",
    "data_folder = path.join(\n",
    "    path.abspath('..'),  # '..' means the directory above this one\n",
    "    'data')\n",
    "data_folder"
   ]
  },
  {
   "cell_type": "code",
   "execution_count": 2,
   "metadata": {},
   "outputs": [
    {
     "data": {
      "text/plain": [
       "['Earliest Mains by Suburbs',\n",
       " 'ArcFM Data',\n",
       " 'Filtered Fields',\n",
       " 'Pivot',\n",
       " 'Suburb_Age_Length_Material',\n",
       " 'HP Age Profile',\n",
       " 'Age Profile Chart',\n",
       " 'Mean PVC Age Profile']"
      ]
     },
     "execution_count": 2,
     "metadata": {},
     "output_type": "execute_result"
    }
   ],
   "source": [
    "age_file = path.join(data_folder, 'Mains_Age_Profile_Estimation 250516.xlsm')\n",
    "age_xl = pd.ExcelFile(age_file)\n",
    "age_xl.sheet_names"
   ]
  },
  {
   "cell_type": "markdown",
   "metadata": {},
   "source": [
    "Next we can parse the data"
   ]
  },
  {
   "cell_type": "code",
   "execution_count": 3,
   "metadata": {},
   "outputs": [
    {
     "data": {
      "text/plain": [
       "count    559101.000000\n",
       "mean       1996.216068\n",
       "std           6.155449\n",
       "min        1900.000000\n",
       "25%        1992.000000\n",
       "50%        1993.000000\n",
       "75%        1998.000000\n",
       "max        2018.000000\n",
       "Name: year, dtype: float64"
      ]
     },
     "execution_count": 3,
     "metadata": {},
     "output_type": "execute_result"
    }
   ],
   "source": [
    "age_data = age_xl.parse('ArcFM Data')\n",
    "\n",
    "# rename columns so we aren't yelling all the time\n",
    "new_names = {\n",
    "    'INSTALLATI': 'installation',\n",
    "    'Year': 'year',\n",
    "    'NOMINALDIA': 'nominal_diameter',\n",
    "    'ACTUALINTE': 'actual_interior_diameter',\n",
    "    'MATERIAL': 'material',\n",
    "    'MEASUREDLE': 'measured_length',\n",
    "    'MOAP': 'moap',\n",
    "    'GAS_TYPE': 'gas_type',\n",
    "    'DIST_LEVEL': 'dist_level',\n",
    "    'MATERIAL_T': 'material_type',\n",
    "    'PIPE_NAME': 'pipe_name',\n",
    "    'SUBURB': 'suburb',\n",
    "    'POSTCODE': 'postcode',\n",
    "    'SHAPE_LEN': 'mapped_length'\n",
    "}\n",
    "age_data.rename(columns=new_names, inplace=True)\n",
    "\n",
    "# there are some strange numbers in the age data - we just clip these to 2018\n",
    "age_data.year = np.clip(age_data.year, age_data.year.min(), 2018)\n",
    "\n",
    "# Let's see what we've got\n",
    "age_data.year.describe()"
   ]
  },
  {
   "cell_type": "markdown",
   "metadata": {},
   "source": [
    "The next step is to generate quantiles for age for each postcode. We do this by iterating over the records and generating the quantiles row by row (there's probably better ways to do this but we're running towards getting something up at the moment)"
   ]
  },
  {
   "cell_type": "code",
   "execution_count": 4,
   "metadata": {},
   "outputs": [
    {
     "data": {
      "text/html": [
       "<div>\n",
       "<style scoped>\n",
       "    .dataframe tbody tr th:only-of-type {\n",
       "        vertical-align: middle;\n",
       "    }\n",
       "\n",
       "    .dataframe tbody tr th {\n",
       "        vertical-align: top;\n",
       "    }\n",
       "\n",
       "    .dataframe thead th {\n",
       "        text-align: right;\n",
       "    }\n",
       "</style>\n",
       "<table border=\"1\" class=\"dataframe\">\n",
       "  <thead>\n",
       "    <tr style=\"text-align: right;\">\n",
       "      <th></th>\n",
       "      <th>q0</th>\n",
       "      <th>q25</th>\n",
       "      <th>q50</th>\n",
       "      <th>q75</th>\n",
       "      <th>q100</th>\n",
       "    </tr>\n",
       "    <tr>\n",
       "      <th>postcode</th>\n",
       "      <th></th>\n",
       "      <th></th>\n",
       "      <th></th>\n",
       "      <th></th>\n",
       "      <th></th>\n",
       "    </tr>\n",
       "  </thead>\n",
       "  <tbody>\n",
       "    <tr>\n",
       "      <th>0</th>\n",
       "      <td>1991.0</td>\n",
       "      <td>1991.0</td>\n",
       "      <td>1993.0</td>\n",
       "      <td>1993.0</td>\n",
       "      <td>2012.0</td>\n",
       "    </tr>\n",
       "    <tr>\n",
       "      <th>6000</th>\n",
       "      <td>1991.0</td>\n",
       "      <td>1993.0</td>\n",
       "      <td>1993.0</td>\n",
       "      <td>1994.0</td>\n",
       "      <td>2013.0</td>\n",
       "    </tr>\n",
       "    <tr>\n",
       "      <th>6003</th>\n",
       "      <td>1993.0</td>\n",
       "      <td>1993.0</td>\n",
       "      <td>1994.0</td>\n",
       "      <td>1995.0</td>\n",
       "      <td>2011.0</td>\n",
       "    </tr>\n",
       "    <tr>\n",
       "      <th>6004</th>\n",
       "      <td>1986.0</td>\n",
       "      <td>1993.0</td>\n",
       "      <td>1993.0</td>\n",
       "      <td>1995.0</td>\n",
       "      <td>2018.0</td>\n",
       "    </tr>\n",
       "    <tr>\n",
       "      <th>6005</th>\n",
       "      <td>1993.0</td>\n",
       "      <td>1994.0</td>\n",
       "      <td>1994.0</td>\n",
       "      <td>1998.0</td>\n",
       "      <td>2013.0</td>\n",
       "    </tr>\n",
       "  </tbody>\n",
       "</table>\n",
       "</div>"
      ],
      "text/plain": [
       "              q0     q25     q50     q75    q100\n",
       "postcode                                        \n",
       "0         1991.0  1991.0  1993.0  1993.0  2012.0\n",
       "6000      1991.0  1993.0  1993.0  1994.0  2013.0\n",
       "6003      1993.0  1993.0  1994.0  1995.0  2011.0\n",
       "6004      1986.0  1993.0  1993.0  1995.0  2018.0\n",
       "6005      1993.0  1994.0  1994.0  1998.0  2013.0"
      ]
     },
     "execution_count": 4,
     "metadata": {},
     "output_type": "execute_result"
    }
   ],
   "source": [
    "features = pd.DataFrame.from_records([\n",
    "        (postcode, df.year.min(), df.year.quantile(0.25), df.year.median(), \n",
    "                    df.year.quantile(0.75), df.year.max())\n",
    "        for postcode, df in age_data.groupby('postcode')\n",
    "    ], \n",
    "    columns=('postcode', 'q0', 'q25', 'q50', 'q75', 'q100'),\n",
    "    index='postcode'\n",
    ")\n",
    "\n",
    "features.head()"
   ]
  },
  {
   "cell_type": "markdown",
   "metadata": {},
   "source": [
    "Now we can take the postcode data and use this to extract a latitude and longitude for each postcode. We're using an inner join on the postcode indices to only get the values we care about"
   ]
  },
  {
   "cell_type": "code",
   "execution_count": 5,
   "metadata": {},
   "outputs": [
    {
     "data": {
      "text/html": [
       "<div>\n",
       "<style scoped>\n",
       "    .dataframe tbody tr th:only-of-type {\n",
       "        vertical-align: middle;\n",
       "    }\n",
       "\n",
       "    .dataframe tbody tr th {\n",
       "        vertical-align: top;\n",
       "    }\n",
       "\n",
       "    .dataframe thead th {\n",
       "        text-align: right;\n",
       "    }\n",
       "</style>\n",
       "<table border=\"1\" class=\"dataframe\">\n",
       "  <thead>\n",
       "    <tr style=\"text-align: right;\">\n",
       "      <th></th>\n",
       "      <th>longitude</th>\n",
       "      <th>latitude</th>\n",
       "      <th>locality</th>\n",
       "    </tr>\n",
       "    <tr>\n",
       "      <th>postcode</th>\n",
       "      <th></th>\n",
       "      <th></th>\n",
       "      <th></th>\n",
       "    </tr>\n",
       "  </thead>\n",
       "  <tbody>\n",
       "    <tr>\n",
       "      <th>200</th>\n",
       "      <td>149.117136</td>\n",
       "      <td>-35.277272</td>\n",
       "      <td>AUSTRALIAN NATIONAL UNIVERSITY</td>\n",
       "    </tr>\n",
       "    <tr>\n",
       "      <th>800</th>\n",
       "      <td>130.955789</td>\n",
       "      <td>-12.801028</td>\n",
       "      <td>DARWIN</td>\n",
       "    </tr>\n",
       "    <tr>\n",
       "      <th>801</th>\n",
       "      <td>130.955789</td>\n",
       "      <td>-12.801028</td>\n",
       "      <td>DARWIN</td>\n",
       "    </tr>\n",
       "    <tr>\n",
       "      <th>804</th>\n",
       "      <td>130.843310</td>\n",
       "      <td>-12.432181</td>\n",
       "      <td>PARAP</td>\n",
       "    </tr>\n",
       "    <tr>\n",
       "      <th>810</th>\n",
       "      <td>130.873472</td>\n",
       "      <td>-12.376967</td>\n",
       "      <td>ALAWA, BRINKIN, CASUARINA, JINGILI, LEE POINT,...</td>\n",
       "    </tr>\n",
       "  </tbody>\n",
       "</table>\n",
       "</div>"
      ],
      "text/plain": [
       "           longitude   latitude  \\\n",
       "postcode                          \n",
       "200       149.117136 -35.277272   \n",
       "800       130.955789 -12.801028   \n",
       "801       130.955789 -12.801028   \n",
       "804       130.843310 -12.432181   \n",
       "810       130.873472 -12.376967   \n",
       "\n",
       "                                                   locality  \n",
       "postcode                                                     \n",
       "200                          AUSTRALIAN NATIONAL UNIVERSITY  \n",
       "800                                                  DARWIN  \n",
       "801                                                  DARWIN  \n",
       "804                                                   PARAP  \n",
       "810       ALAWA, BRINKIN, CASUARINA, JINGILI, LEE POINT,...  "
      ]
     },
     "execution_count": 5,
     "metadata": {},
     "output_type": "execute_result"
    }
   ],
   "source": [
    "raw_postcodes = \\\n",
    "    pd.read_csv(path.join(data_folder, 'australian_postcodes.csv')) \\\n",
    "      .dropna(how='any')\n",
    "\n",
    "# We have to remove duplicate records (there's one for each suburb) so we aggregate them up\n",
    "postcodes = pd.DataFrame.from_records([\n",
    "        (postcode, df.long.mean(), df.lat.mean(), ', '.join(df.locality))\n",
    "        for postcode, df in raw_postcodes.groupby('postcode')\n",
    "    ],\n",
    "    columns=('postcode', 'longitude', 'latitude', 'locality'),\n",
    "    index='postcode'\n",
    ")\n",
    "postcodes.head()"
   ]
  },
  {
   "cell_type": "markdown",
   "metadata": {},
   "source": [
    "Now we can join the two tables together to get one table with all the relevant information"
   ]
  },
  {
   "cell_type": "code",
   "execution_count": 6,
   "metadata": {},
   "outputs": [
    {
     "data": {
      "text/html": [
       "<div>\n",
       "<style scoped>\n",
       "    .dataframe tbody tr th:only-of-type {\n",
       "        vertical-align: middle;\n",
       "    }\n",
       "\n",
       "    .dataframe tbody tr th {\n",
       "        vertical-align: top;\n",
       "    }\n",
       "\n",
       "    .dataframe thead th {\n",
       "        text-align: right;\n",
       "    }\n",
       "</style>\n",
       "<table border=\"1\" class=\"dataframe\">\n",
       "  <thead>\n",
       "    <tr style=\"text-align: right;\">\n",
       "      <th></th>\n",
       "      <th>q0</th>\n",
       "      <th>q25</th>\n",
       "      <th>q50</th>\n",
       "      <th>q75</th>\n",
       "      <th>q100</th>\n",
       "      <th>longitude</th>\n",
       "      <th>latitude</th>\n",
       "      <th>locality</th>\n",
       "    </tr>\n",
       "    <tr>\n",
       "      <th>postcode</th>\n",
       "      <th></th>\n",
       "      <th></th>\n",
       "      <th></th>\n",
       "      <th></th>\n",
       "      <th></th>\n",
       "      <th></th>\n",
       "      <th></th>\n",
       "      <th></th>\n",
       "    </tr>\n",
       "  </thead>\n",
       "  <tbody>\n",
       "    <tr>\n",
       "      <th>6000</th>\n",
       "      <td>1991.0</td>\n",
       "      <td>1993.0</td>\n",
       "      <td>1993.0</td>\n",
       "      <td>1994.0</td>\n",
       "      <td>2013.0</td>\n",
       "      <td>115.859912</td>\n",
       "      <td>-31.948762</td>\n",
       "      <td>PERTH</td>\n",
       "    </tr>\n",
       "    <tr>\n",
       "      <th>6003</th>\n",
       "      <td>1993.0</td>\n",
       "      <td>1993.0</td>\n",
       "      <td>1994.0</td>\n",
       "      <td>1995.0</td>\n",
       "      <td>2011.0</td>\n",
       "      <td>0.000000</td>\n",
       "      <td>0.000000</td>\n",
       "      <td>HIGHGATE, NORTHBRIDGE</td>\n",
       "    </tr>\n",
       "    <tr>\n",
       "      <th>6004</th>\n",
       "      <td>1986.0</td>\n",
       "      <td>1993.0</td>\n",
       "      <td>1993.0</td>\n",
       "      <td>1995.0</td>\n",
       "      <td>2018.0</td>\n",
       "      <td>115.874601</td>\n",
       "      <td>-31.956931</td>\n",
       "      <td>EAST PERTH</td>\n",
       "    </tr>\n",
       "    <tr>\n",
       "      <th>6005</th>\n",
       "      <td>1993.0</td>\n",
       "      <td>1994.0</td>\n",
       "      <td>1994.0</td>\n",
       "      <td>1998.0</td>\n",
       "      <td>2013.0</td>\n",
       "      <td>115.836896</td>\n",
       "      <td>-31.957070</td>\n",
       "      <td>KINGS PARK, WEST PERTH</td>\n",
       "    </tr>\n",
       "    <tr>\n",
       "      <th>6006</th>\n",
       "      <td>1993.0</td>\n",
       "      <td>1994.0</td>\n",
       "      <td>1994.0</td>\n",
       "      <td>1996.0</td>\n",
       "      <td>2013.0</td>\n",
       "      <td>115.852913</td>\n",
       "      <td>-31.929340</td>\n",
       "      <td>NORTH PERTH</td>\n",
       "    </tr>\n",
       "  </tbody>\n",
       "</table>\n",
       "</div>"
      ],
      "text/plain": [
       "              q0     q25     q50     q75    q100   longitude   latitude  \\\n",
       "postcode                                                                  \n",
       "6000      1991.0  1993.0  1993.0  1994.0  2013.0  115.859912 -31.948762   \n",
       "6003      1993.0  1993.0  1994.0  1995.0  2011.0    0.000000   0.000000   \n",
       "6004      1986.0  1993.0  1993.0  1995.0  2018.0  115.874601 -31.956931   \n",
       "6005      1993.0  1994.0  1994.0  1998.0  2013.0  115.836896 -31.957070   \n",
       "6006      1993.0  1994.0  1994.0  1996.0  2013.0  115.852913 -31.929340   \n",
       "\n",
       "                        locality  \n",
       "postcode                          \n",
       "6000                       PERTH  \n",
       "6003       HIGHGATE, NORTHBRIDGE  \n",
       "6004                  EAST PERTH  \n",
       "6005      KINGS PARK, WEST PERTH  \n",
       "6006                 NORTH PERTH  "
      ]
     },
     "execution_count": 6,
     "metadata": {},
     "output_type": "execute_result"
    }
   ],
   "source": [
    "features = features.join(postcodes, how='inner')\n",
    "features.head()"
   ]
  },
  {
   "cell_type": "markdown",
   "metadata": {},
   "source": [
    "and now we can see the spread of postcodes around Perth with a quick scatter plot"
   ]
  },
  {
   "cell_type": "code",
   "execution_count": 7,
   "metadata": {},
   "outputs": [
    {
     "data": {
      "image/png": "[encoded data removed]",
      "text/plain": [
       "<Figure size 432x288 with 1 Axes>"
      ]
     },
     "metadata": {
      "needs_background": "light"
     },
     "output_type": "display_data"
    }
   ],
   "source": [
    "ax = features.plot('longitude', 'latitude', kind='scatter')\n",
    "ax.set_xlim(115, 117)\n",
    "ax.set_ylim(-34, -31)\n",
    "ax.set_aspect(1)"
   ]
  },
  {
   "cell_type": "markdown",
   "metadata": {},
   "source": [
    "The latitude and longitude columns are really one feature of the data - a geographic point. We should prefer to represent these using a geospatial data type. [geopandas](http://geopandas.org) is an extension to pandas that adds support for geospatial data - you can think of this as giving you an in-memory spatial database (much as pandas gives you an in-memory regular database).\n",
    "\n",
    "Geopandas also lets you read vector data (e.g. shapefiles) directly which can be really handy when you want to munge spatial and non-spatial data together.\n",
    "\n",
    "First we transform the dataframe to a geopandas GeoDataFrame"
   ]
  },
  {
   "cell_type": "code",
   "execution_count": 8,
   "metadata": {},
   "outputs": [],
   "source": [
    "import geopandas as gpd\n",
    "from shapely.geometry import Point\n",
    "\n",
    "points = zip(features.longitude, features.latitude)\n",
    "geometry = [Point(p) for p in points]\n",
    "crs = {'init': 'epsg:4326'}  # WGS84 coordinate system)\n",
    "\n",
    "# now we do the conversion\n",
    "features = gpd.GeoDataFrame(features, crs=crs, geometry=geometry)"
   ]
  },
  {
   "cell_type": "markdown",
   "metadata": {},
   "source": [
    "Then we can use geoplot to plot our data nicely on the map while visualizing other features"
   ]
  },
  {
   "cell_type": "code",
   "execution_count": 20,
   "metadata": {},
   "outputs": [
    {
     "data": {
      "image/png": "[encoded data removed]",
      "text/plain": [
       "<Figure size 576x2304 with 1 Axes>"
      ]
     },
     "metadata": {
      "needs_background": "light"
     },
     "output_type": "display_data"
    }
   ],
   "source": [
    "import matplotlib.pyplot as plt\n",
    "import geoplot as gplt\n",
    "import geoplot.crs as gcrs\n",
    "\n",
    "extent = (113, 117, -36, -20)\n",
    "# extent = (100, 160, -85, 0)\n",
    "ax = gplt.pointplot(\n",
    "    features, hue='q50', \n",
    "    extent=extent, \n",
    "    projection=gcrs.AlbersEqualArea(central_longitude=116, central_latitude=-32.5))\n",
    "ax.coastlines(resolution='10m')\n",
    "ax.stock_img()\n",
    "\n",
    "# Make sure we're plotting equal aspect ratio\n",
    "aspect = (extent[3] - extent[2]) / (extent[1] - extent[0])\n",
    "plt.gcf().set_size_inches(8, 8 * aspect)"
   ]
  },
  {
   "cell_type": "markdown",
   "metadata": {},
   "source": [
    "### Aligning suburb codes from faults data\n",
    "\n",
    "Next we need to align the shortened suburb names from the faults data with the long versions in our postcode data.\n",
    "\n",
    "There's quite a few of these so it's worth thinking how to do this programatically.\n",
    "\n",
    "First we load up our clean data"
   ]
  },
  {
   "cell_type": "code",
   "execution_count": 91,
   "metadata": {},
   "outputs": [],
   "source": [
    "import feather\n",
    "\n",
    "feather_file = path.join(data_folder, 'faults_data_2010_2016.feather')\n",
    "clean = feather.read_dataframe(feather_file)"
   ]
  },
  {
   "cell_type": "markdown",
   "metadata": {},
   "source": [
    "So lets take a look at what we've got"
   ]
  },
  {
   "cell_type": "code",
   "execution_count": 92,
   "metadata": {},
   "outputs": [
    {
     "data": {
      "text/plain": [
       "[CAPEL, PNJRR, BSNDN, WNGRA, ALKMS]\n",
       "Categories (418, object): [CAPEL, PNJRR, BSNDN, WNGRA, ..., PKLDS, FURDALE, RED H, WNGNG]"
      ]
     },
     "execution_count": 92,
     "metadata": {},
     "output_type": "execute_result"
    }
   ],
   "source": [
    "abbrev_subrubs = clean.suburb.unique()\n",
    "abbrev_subrubs[:5]"
   ]
  },
  {
   "cell_type": "code",
   "execution_count": 93,
   "metadata": {},
   "outputs": [
    {
     "data": {
      "text/plain": [
       "array(['PALMYRA', 'BICTON', 'KARDINYA', 'EAST FREMANTLE', 'NORTH FREMANTLE'], dtype=object)"
      ]
     },
     "execution_count": 93,
     "metadata": {},
     "output_type": "execute_result"
    }
   ],
   "source": [
    "full_suburbs = age_data.suburb.unique()\n",
    "full_suburbs[:5]"
   ]
  },
  {
   "cell_type": "markdown",
   "metadata": {},
   "source": [
    "Let's write a little function to test whether one string is an abbreviation for the other."
   ]
  },
  {
   "cell_type": "code",
   "execution_count": 94,
   "metadata": {},
   "outputs": [],
   "source": [
    "def is_abbrev(abbrev, text):\n",
    "    \"\"\" \n",
    "    Check whether abbrev is a valid abbreviation for text\n",
    "    \n",
    "    Parameters:\n",
    "        abbrev - the abbreviated text\n",
    "        text - the text to match against\n",
    "    \"\"\"\n",
    "    try:\n",
    "        abbrev=abbrev.lower()\n",
    "        text=text.lower()\n",
    "        words=text.split()\n",
    "    except AttributeError:\n",
    "        # We don't have text!\n",
    "        return False\n",
    "    if not abbrev:\n",
    "        return True\n",
    "    if abbrev and not text:\n",
    "        return False\n",
    "    if abbrev[0]!=text[0]:\n",
    "        return False\n",
    "    else:\n",
    "        return (is_abbrev(abbrev[1:],' '.join(words[1:])) or\n",
    "                any(is_abbrev(abbrev[1:],text[i+1:])\n",
    "                    for i in range(len(words[0]))))"
   ]
  },
  {
   "cell_type": "markdown",
   "metadata": {},
   "source": [
    "Now we can match one set of suburbs against the other. To speed things up we're going to assume that the abbreviation and suburb start with the same letter"
   ]
  },
  {
   "cell_type": "code",
   "execution_count": 95,
   "metadata": {},
   "outputs": [
    {
     "name": "stdout",
     "output_type": "stream",
     "text": [
      "Couldn't work out nan\n",
      "Couldn't work out WLKWY\n",
      "Couldn't work out BRD WOOD\n",
      "Couldn't work out CLIFTON\n",
      "Couldn't work out LNDSLDE\n",
      "Couldn't work out VINES\n",
      "Couldn't work out NOWRGP\n",
      "Couldn't work out WHITMN\n",
      "Couldn't work out OCCNR\n",
      "Couldn't work out BWICK JN\n",
      "Couldn't work out CRCKD BK\n",
      "Couldn't work out DPDLE\n",
      "Couldn't work out FURDALE\n"
     ]
    }
   ],
   "source": [
    "suburb_mapping = {}\n",
    "for abbrev in abbrev_subrubs:\n",
    "    # Loop through the list and check whether we have an abbreviation\n",
    "    possible_matches = [s for s in full_suburbs if is_abbrev(abbrev, s)]\n",
    "    \n",
    "    # We're lazy and we'll just take the first match\n",
    "    if possible_matches:\n",
    "        suburb_mapping[abbrev] = possible_matches[0]\n",
    "    else:\n",
    "        print(f\"Couldn't work out {abbrev}\")\n",
    "        suburb_mapping[abbrev] = None"
   ]
  },
  {
   "cell_type": "markdown",
   "metadata": {},
   "source": [
    "and we're done!"
   ]
  },
  {
   "cell_type": "code",
   "execution_count": 96,
   "metadata": {},
   "outputs": [
    {
     "data": {
      "text/plain": [
       "[('CAPEL', 'CAPEL'),\n",
       " ('PNJRR', 'PINJARRA'),\n",
       " ('BSNDN', 'BASSENDEAN'),\n",
       " ('WNGRA', 'WANGARA'),\n",
       " ('ALKMS', 'ALKIMOS'),\n",
       " (nan, None),\n",
       " ('WLGEE', 'WILLAGEE'),\n",
       " ('E FTLE', 'EAST FREMANTLE'),\n",
       " ('SPNCR PRK', 'SPENCER PARK'),\n",
       " ('MT CLRNC', 'MOUNT CLARENCE')]"
      ]
     },
     "execution_count": 96,
     "metadata": {},
     "output_type": "execute_result"
    }
   ],
   "source": [
    "list(suburb_mapping.items())[:10]"
   ]
  },
  {
   "cell_type": "code",
   "execution_count": 97,
   "metadata": {},
   "outputs": [
    {
     "data": {
      "text/html": [
       "<div>\n",
       "<style scoped>\n",
       "    .dataframe tbody tr th:only-of-type {\n",
       "        vertical-align: middle;\n",
       "    }\n",
       "\n",
       "    .dataframe tbody tr th {\n",
       "        vertical-align: top;\n",
       "    }\n",
       "\n",
       "    .dataframe thead th {\n",
       "        text-align: right;\n",
       "    }\n",
       "</style>\n",
       "<table border=\"1\" class=\"dataframe\">\n",
       "  <thead>\n",
       "    <tr style=\"text-align: right;\">\n",
       "      <th></th>\n",
       "      <th>functional_location</th>\n",
       "      <th>date</th>\n",
       "      <th>pipe_size</th>\n",
       "      <th>code_group_0</th>\n",
       "      <th>code_group_1</th>\n",
       "      <th>pressure_rating</th>\n",
       "      <th>pipe_material</th>\n",
       "      <th>damage_code</th>\n",
       "      <th>cause_code</th>\n",
       "      <th>object_part_code</th>\n",
       "      <th>location</th>\n",
       "      <th>suburb</th>\n",
       "    </tr>\n",
       "  </thead>\n",
       "  <tbody>\n",
       "    <tr>\n",
       "      <th>0</th>\n",
       "      <td>00900834</td>\n",
       "      <td>2011-05-20</td>\n",
       "      <td>150.0</td>\n",
       "      <td>MNWORK</td>\n",
       "      <td>MNREQUST</td>\n",
       "      <td>HP</td>\n",
       "      <td>ST</td>\n",
       "      <td>CHCK</td>\n",
       "      <td>CUST</td>\n",
       "      <td>PIPE</td>\n",
       "      <td>BS</td>\n",
       "      <td>CAPEL</td>\n",
       "    </tr>\n",
       "    <tr>\n",
       "      <th>1</th>\n",
       "      <td>00895059</td>\n",
       "      <td>2011-12-01</td>\n",
       "      <td>50.0</td>\n",
       "      <td>MNWORK</td>\n",
       "      <td>MNREQUST</td>\n",
       "      <td>HP</td>\n",
       "      <td>ST</td>\n",
       "      <td>CHCK</td>\n",
       "      <td>AGAS</td>\n",
       "      <td>PIPE</td>\n",
       "      <td>MA</td>\n",
       "      <td>PNJRR</td>\n",
       "    </tr>\n",
       "    <tr>\n",
       "      <th>2</th>\n",
       "      <td>01007110</td>\n",
       "      <td>2015-08-17</td>\n",
       "      <td>80.0</td>\n",
       "      <td>SNSERSTD</td>\n",
       "      <td>NaN</td>\n",
       "      <td>HP</td>\n",
       "      <td>ST</td>\n",
       "      <td>NEW</td>\n",
       "      <td>NaN</td>\n",
       "      <td>PIPE</td>\n",
       "      <td>NM</td>\n",
       "      <td>BSNDN</td>\n",
       "    </tr>\n",
       "    <tr>\n",
       "      <th>3</th>\n",
       "      <td>00876628</td>\n",
       "      <td>2010-06-13</td>\n",
       "      <td>100.0</td>\n",
       "      <td>MNWORK</td>\n",
       "      <td>MNCAUSE</td>\n",
       "      <td>MP</td>\n",
       "      <td>PVC</td>\n",
       "      <td>CHCK</td>\n",
       "      <td>3PTY</td>\n",
       "      <td>PIPE</td>\n",
       "      <td>NM</td>\n",
       "      <td>WNGRA</td>\n",
       "    </tr>\n",
       "    <tr>\n",
       "      <th>4</th>\n",
       "      <td>00898718</td>\n",
       "      <td>2011-08-16</td>\n",
       "      <td>225.0</td>\n",
       "      <td>MNWORK</td>\n",
       "      <td>MNREQUST</td>\n",
       "      <td>HP</td>\n",
       "      <td>PE</td>\n",
       "      <td>CHCK</td>\n",
       "      <td>CUST</td>\n",
       "      <td>PIPE</td>\n",
       "      <td>NM</td>\n",
       "      <td>ALKMS</td>\n",
       "    </tr>\n",
       "  </tbody>\n",
       "</table>\n",
       "</div>"
      ],
      "text/plain": [
       "  functional_location       date  pipe_size code_group_0 code_group_1  \\\n",
       "0            00900834 2011-05-20      150.0       MNWORK     MNREQUST   \n",
       "1            00895059 2011-12-01       50.0       MNWORK     MNREQUST   \n",
       "2            01007110 2015-08-17       80.0     SNSERSTD          NaN   \n",
       "3            00876628 2010-06-13      100.0       MNWORK      MNCAUSE   \n",
       "4            00898718 2011-08-16      225.0       MNWORK     MNREQUST   \n",
       "\n",
       "  pressure_rating pipe_material damage_code cause_code object_part_code  \\\n",
       "0              HP            ST        CHCK       CUST             PIPE   \n",
       "1              HP            ST        CHCK       AGAS             PIPE   \n",
       "2              HP            ST         NEW        NaN             PIPE   \n",
       "3              MP           PVC        CHCK       3PTY             PIPE   \n",
       "4              HP            PE        CHCK       CUST             PIPE   \n",
       "\n",
       "  location suburb  \n",
       "0       BS  CAPEL  \n",
       "1       MA  PNJRR  \n",
       "2       NM  BSNDN  \n",
       "3       NM  WNGRA  \n",
       "4       NM  ALKMS  "
      ]
     },
     "execution_count": 97,
     "metadata": {},
     "output_type": "execute_result"
    }
   ],
   "source": [
    "clean.head()"
   ]
  },
  {
   "cell_type": "code",
   "execution_count": 98,
   "metadata": {},
   "outputs": [
    {
     "data": {
      "text/html": [
       "<div>\n",
       "<style scoped>\n",
       "    .dataframe tbody tr th:only-of-type {\n",
       "        vertical-align: middle;\n",
       "    }\n",
       "\n",
       "    .dataframe tbody tr th {\n",
       "        vertical-align: top;\n",
       "    }\n",
       "\n",
       "    .dataframe thead th {\n",
       "        text-align: right;\n",
       "    }\n",
       "</style>\n",
       "<table border=\"1\" class=\"dataframe\">\n",
       "  <thead>\n",
       "    <tr style=\"text-align: right;\">\n",
       "      <th></th>\n",
       "      <th>functional_location</th>\n",
       "      <th>date</th>\n",
       "      <th>pipe_size</th>\n",
       "      <th>code_group_0</th>\n",
       "      <th>code_group_1</th>\n",
       "      <th>pressure_rating</th>\n",
       "      <th>pipe_material</th>\n",
       "      <th>damage_code</th>\n",
       "      <th>cause_code</th>\n",
       "      <th>object_part_code</th>\n",
       "      <th>location</th>\n",
       "      <th>suburb</th>\n",
       "    </tr>\n",
       "  </thead>\n",
       "  <tbody>\n",
       "    <tr>\n",
       "      <th>0</th>\n",
       "      <td>00900834</td>\n",
       "      <td>2011-05-20</td>\n",
       "      <td>150.0</td>\n",
       "      <td>MNWORK</td>\n",
       "      <td>MNREQUST</td>\n",
       "      <td>HP</td>\n",
       "      <td>ST</td>\n",
       "      <td>CHCK</td>\n",
       "      <td>CUST</td>\n",
       "      <td>PIPE</td>\n",
       "      <td>BS</td>\n",
       "      <td>CAPEL</td>\n",
       "    </tr>\n",
       "    <tr>\n",
       "      <th>1</th>\n",
       "      <td>00895059</td>\n",
       "      <td>2011-12-01</td>\n",
       "      <td>50.0</td>\n",
       "      <td>MNWORK</td>\n",
       "      <td>MNREQUST</td>\n",
       "      <td>HP</td>\n",
       "      <td>ST</td>\n",
       "      <td>CHCK</td>\n",
       "      <td>AGAS</td>\n",
       "      <td>PIPE</td>\n",
       "      <td>MA</td>\n",
       "      <td>PINJARRA</td>\n",
       "    </tr>\n",
       "    <tr>\n",
       "      <th>2</th>\n",
       "      <td>01007110</td>\n",
       "      <td>2015-08-17</td>\n",
       "      <td>80.0</td>\n",
       "      <td>SNSERSTD</td>\n",
       "      <td>NaN</td>\n",
       "      <td>HP</td>\n",
       "      <td>ST</td>\n",
       "      <td>NEW</td>\n",
       "      <td>NaN</td>\n",
       "      <td>PIPE</td>\n",
       "      <td>NM</td>\n",
       "      <td>BASSENDEAN</td>\n",
       "    </tr>\n",
       "    <tr>\n",
       "      <th>3</th>\n",
       "      <td>00876628</td>\n",
       "      <td>2010-06-13</td>\n",
       "      <td>100.0</td>\n",
       "      <td>MNWORK</td>\n",
       "      <td>MNCAUSE</td>\n",
       "      <td>MP</td>\n",
       "      <td>PVC</td>\n",
       "      <td>CHCK</td>\n",
       "      <td>3PTY</td>\n",
       "      <td>PIPE</td>\n",
       "      <td>NM</td>\n",
       "      <td>WANGARA</td>\n",
       "    </tr>\n",
       "    <tr>\n",
       "      <th>4</th>\n",
       "      <td>00898718</td>\n",
       "      <td>2011-08-16</td>\n",
       "      <td>225.0</td>\n",
       "      <td>MNWORK</td>\n",
       "      <td>MNREQUST</td>\n",
       "      <td>HP</td>\n",
       "      <td>PE</td>\n",
       "      <td>CHCK</td>\n",
       "      <td>CUST</td>\n",
       "      <td>PIPE</td>\n",
       "      <td>NM</td>\n",
       "      <td>ALKIMOS</td>\n",
       "    </tr>\n",
       "  </tbody>\n",
       "</table>\n",
       "</div>"
      ],
      "text/plain": [
       "  functional_location       date  pipe_size code_group_0 code_group_1  \\\n",
       "0            00900834 2011-05-20      150.0       MNWORK     MNREQUST   \n",
       "1            00895059 2011-12-01       50.0       MNWORK     MNREQUST   \n",
       "2            01007110 2015-08-17       80.0     SNSERSTD          NaN   \n",
       "3            00876628 2010-06-13      100.0       MNWORK      MNCAUSE   \n",
       "4            00898718 2011-08-16      225.0       MNWORK     MNREQUST   \n",
       "\n",
       "  pressure_rating pipe_material damage_code cause_code object_part_code  \\\n",
       "0              HP            ST        CHCK       CUST             PIPE   \n",
       "1              HP            ST        CHCK       AGAS             PIPE   \n",
       "2              HP            ST         NEW        NaN             PIPE   \n",
       "3              MP           PVC        CHCK       3PTY             PIPE   \n",
       "4              HP            PE        CHCK       CUST             PIPE   \n",
       "\n",
       "  location      suburb  \n",
       "0       BS       CAPEL  \n",
       "1       MA    PINJARRA  \n",
       "2       NM  BASSENDEAN  \n",
       "3       NM     WANGARA  \n",
       "4       NM     ALKIMOS  "
      ]
     },
     "execution_count": 98,
     "metadata": {},
     "output_type": "execute_result"
    }
   ],
   "source": [
    "clean.suburb = clean.suburb.apply(lambda s: suburb_mapping[s])\n",
    "clean.head()"
   ]
  },
  {
   "cell_type": "markdown",
   "metadata": {},
   "source": [
    "Next we need a mapping from suburbs to postcodes - fortunately we have this in our original age dataset"
   ]
  },
  {
   "cell_type": "code",
   "execution_count": 99,
   "metadata": {},
   "outputs": [
    {
     "data": {
      "text/plain": [
       "[('PALMYRA', 6157),\n",
       " ('BICTON', 6157),\n",
       " ('KARDINYA', 6163),\n",
       " ('EAST FREMANTLE', 6158),\n",
       " ('NORTH FREMANTLE', 6159)]"
      ]
     },
     "execution_count": 99,
     "metadata": {},
     "output_type": "execute_result"
    }
   ],
   "source": [
    "suburb_postcode_mapping = dict(pd.unique(\n",
    "    list(zip(*[age_data[c] for c in ['suburb', 'postcode']]))))\n",
    "\n",
    "def get_postcode(suburb):\n",
    "    try:\n",
    "        return suburb_postcode_mapping[suburb]\n",
    "    except KeyError:\n",
    "        return None\n",
    "\n",
    "list(suburb_postcode_mapping.items())[:5]"
   ]
  },
  {
   "cell_type": "code",
   "execution_count": 100,
   "metadata": {},
   "outputs": [
    {
     "data": {
      "text/html": [
       "<div>\n",
       "<style scoped>\n",
       "    .dataframe tbody tr th:only-of-type {\n",
       "        vertical-align: middle;\n",
       "    }\n",
       "\n",
       "    .dataframe tbody tr th {\n",
       "        vertical-align: top;\n",
       "    }\n",
       "\n",
       "    .dataframe thead th {\n",
       "        text-align: right;\n",
       "    }\n",
       "</style>\n",
       "<table border=\"1\" class=\"dataframe\">\n",
       "  <thead>\n",
       "    <tr style=\"text-align: right;\">\n",
       "      <th></th>\n",
       "      <th>functional_location</th>\n",
       "      <th>date</th>\n",
       "      <th>pipe_size</th>\n",
       "      <th>code_group_0</th>\n",
       "      <th>code_group_1</th>\n",
       "      <th>pressure_rating</th>\n",
       "      <th>pipe_material</th>\n",
       "      <th>damage_code</th>\n",
       "      <th>cause_code</th>\n",
       "      <th>object_part_code</th>\n",
       "      <th>location</th>\n",
       "      <th>suburb</th>\n",
       "      <th>postcode</th>\n",
       "    </tr>\n",
       "  </thead>\n",
       "  <tbody>\n",
       "    <tr>\n",
       "      <th>0</th>\n",
       "      <td>00900834</td>\n",
       "      <td>2011-05-20</td>\n",
       "      <td>150.0</td>\n",
       "      <td>MNWORK</td>\n",
       "      <td>MNREQUST</td>\n",
       "      <td>HP</td>\n",
       "      <td>ST</td>\n",
       "      <td>CHCK</td>\n",
       "      <td>CUST</td>\n",
       "      <td>PIPE</td>\n",
       "      <td>BS</td>\n",
       "      <td>CAPEL</td>\n",
       "      <td>6271.0</td>\n",
       "    </tr>\n",
       "    <tr>\n",
       "      <th>1</th>\n",
       "      <td>00895059</td>\n",
       "      <td>2011-12-01</td>\n",
       "      <td>50.0</td>\n",
       "      <td>MNWORK</td>\n",
       "      <td>MNREQUST</td>\n",
       "      <td>HP</td>\n",
       "      <td>ST</td>\n",
       "      <td>CHCK</td>\n",
       "      <td>AGAS</td>\n",
       "      <td>PIPE</td>\n",
       "      <td>MA</td>\n",
       "      <td>PINJARRA</td>\n",
       "      <td>6208.0</td>\n",
       "    </tr>\n",
       "    <tr>\n",
       "      <th>2</th>\n",
       "      <td>01007110</td>\n",
       "      <td>2015-08-17</td>\n",
       "      <td>80.0</td>\n",
       "      <td>SNSERSTD</td>\n",
       "      <td>NaN</td>\n",
       "      <td>HP</td>\n",
       "      <td>ST</td>\n",
       "      <td>NEW</td>\n",
       "      <td>NaN</td>\n",
       "      <td>PIPE</td>\n",
       "      <td>NM</td>\n",
       "      <td>BASSENDEAN</td>\n",
       "      <td>6054.0</td>\n",
       "    </tr>\n",
       "    <tr>\n",
       "      <th>3</th>\n",
       "      <td>00876628</td>\n",
       "      <td>2010-06-13</td>\n",
       "      <td>100.0</td>\n",
       "      <td>MNWORK</td>\n",
       "      <td>MNCAUSE</td>\n",
       "      <td>MP</td>\n",
       "      <td>PVC</td>\n",
       "      <td>CHCK</td>\n",
       "      <td>3PTY</td>\n",
       "      <td>PIPE</td>\n",
       "      <td>NM</td>\n",
       "      <td>WANGARA</td>\n",
       "      <td>6065.0</td>\n",
       "    </tr>\n",
       "    <tr>\n",
       "      <th>4</th>\n",
       "      <td>00898718</td>\n",
       "      <td>2011-08-16</td>\n",
       "      <td>225.0</td>\n",
       "      <td>MNWORK</td>\n",
       "      <td>MNREQUST</td>\n",
       "      <td>HP</td>\n",
       "      <td>PE</td>\n",
       "      <td>CHCK</td>\n",
       "      <td>CUST</td>\n",
       "      <td>PIPE</td>\n",
       "      <td>NM</td>\n",
       "      <td>ALKIMOS</td>\n",
       "      <td>6038.0</td>\n",
       "    </tr>\n",
       "  </tbody>\n",
       "</table>\n",
       "</div>"
      ],
      "text/plain": [
       "  functional_location       date  pipe_size code_group_0 code_group_1  \\\n",
       "0            00900834 2011-05-20      150.0       MNWORK     MNREQUST   \n",
       "1            00895059 2011-12-01       50.0       MNWORK     MNREQUST   \n",
       "2            01007110 2015-08-17       80.0     SNSERSTD          NaN   \n",
       "3            00876628 2010-06-13      100.0       MNWORK      MNCAUSE   \n",
       "4            00898718 2011-08-16      225.0       MNWORK     MNREQUST   \n",
       "\n",
       "  pressure_rating pipe_material damage_code cause_code object_part_code  \\\n",
       "0              HP            ST        CHCK       CUST             PIPE   \n",
       "1              HP            ST        CHCK       AGAS             PIPE   \n",
       "2              HP            ST         NEW        NaN             PIPE   \n",
       "3              MP           PVC        CHCK       3PTY             PIPE   \n",
       "4              HP            PE        CHCK       CUST             PIPE   \n",
       "\n",
       "  location      suburb  postcode  \n",
       "0       BS       CAPEL    6271.0  \n",
       "1       MA    PINJARRA    6208.0  \n",
       "2       NM  BASSENDEAN    6054.0  \n",
       "3       NM     WANGARA    6065.0  \n",
       "4       NM     ALKIMOS    6038.0  "
      ]
     },
     "execution_count": 100,
     "metadata": {},
     "output_type": "execute_result"
    }
   ],
   "source": [
    "clean['postcode'] = clean['suburb'].apply(get_postcode)\n",
    "clean.head()"
   ]
  },
  {
   "cell_type": "markdown",
   "metadata": {},
   "source": [
    "Finally we can clean up the clean dataset by dropping all records with NaNs"
   ]
  },
  {
   "cell_type": "code",
   "execution_count": 101,
   "metadata": {},
   "outputs": [],
   "source": [
    "clean = clean.dropna(how='any')\n",
    "clean['postcode'] = clean['postcode'].astype(int)"
   ]
  },
  {
   "cell_type": "code",
   "execution_count": 102,
   "metadata": {},
   "outputs": [
    {
     "name": "stdout",
     "output_type": "stream",
     "text": [
      "<class 'pandas.core.frame.DataFrame'>\n",
      "Int64Index: 21664 entries, 0 to 23020\n",
      "Data columns (total 13 columns):\n",
      "functional_location    21664 non-null object\n",
      "date                   21664 non-null datetime64[ns]\n",
      "pipe_size              21664 non-null float64\n",
      "code_group_0           21664 non-null category\n",
      "code_group_1           21664 non-null category\n",
      "pressure_rating        21664 non-null category\n",
      "pipe_material          21664 non-null category\n",
      "damage_code            21664 non-null category\n",
      "cause_code             21664 non-null category\n",
      "object_part_code       21664 non-null category\n",
      "location               21664 non-null category\n",
      "suburb                 21664 non-null object\n",
      "postcode               21664 non-null int64\n",
      "dtypes: category(8), datetime64[ns](1), float64(1), int64(1), object(2)\n",
      "memory usage: 1.2+ MB\n"
     ]
    }
   ],
   "source": [
    "clean.info()"
   ]
  },
  {
   "cell_type": "markdown",
   "metadata": {},
   "source": [
    "Better write the data out to file as a checkpoint"
   ]
  },
  {
   "cell_type": "code",
   "execution_count": 103,
   "metadata": {},
   "outputs": [],
   "source": [
    "feather_file = path.join(data_folder, 'faults_data_2010_2016_postcodes.feather')\n",
    "clean.reset_index().to_feather(feather_file)"
   ]
  },
  {
   "cell_type": "markdown",
   "metadata": {},
   "source": [
    "Next we can reconstruct our pivot table by postcode"
   ]
  },
  {
   "cell_type": "code",
   "execution_count": 122,
   "metadata": {},
   "outputs": [],
   "source": [
    "faults_by_suburb = pd.DataFrame(\n",
    "    data=clean[['date', 'postcode', 'damage_code']]\n",
    ")\n",
    "faults_by_suburb['count'] = 1\n",
    "\n",
    "fault_pivot = faults_by_suburb \\\n",
    "    .pivot_table(\n",
    "        values='count', \n",
    "        index='date', \n",
    "        columns='postcode',\n",
    "        aggfunc=sum) \\\n",
    "    .resample('Y').sum().astype(int)"
   ]
  },
  {
   "cell_type": "markdown",
   "metadata": {},
   "source": [
    "We'll just redo the date to make it a year given we don't care about month or day now"
   ]
  },
  {
   "cell_type": "code",
   "execution_count": 123,
   "metadata": {},
   "outputs": [
    {
     "data": {
      "text/html": [
       "<div>\n",
       "<style scoped>\n",
       "    .dataframe tbody tr th:only-of-type {\n",
       "        vertical-align: middle;\n",
       "    }\n",
       "\n",
       "    .dataframe tbody tr th {\n",
       "        vertical-align: top;\n",
       "    }\n",
       "\n",
       "    .dataframe thead th {\n",
       "        text-align: right;\n",
       "    }\n",
       "</style>\n",
       "<table border=\"1\" class=\"dataframe\">\n",
       "  <thead>\n",
       "    <tr style=\"text-align: right;\">\n",
       "      <th>postcode</th>\n",
       "      <th>6000</th>\n",
       "      <th>6003</th>\n",
       "      <th>6004</th>\n",
       "      <th>6005</th>\n",
       "      <th>6006</th>\n",
       "      <th>6007</th>\n",
       "      <th>6008</th>\n",
       "      <th>6009</th>\n",
       "      <th>6010</th>\n",
       "      <th>6011</th>\n",
       "      <th>...</th>\n",
       "      <th>6237</th>\n",
       "      <th>6271</th>\n",
       "      <th>6280</th>\n",
       "      <th>6330</th>\n",
       "      <th>6430</th>\n",
       "      <th>6432</th>\n",
       "      <th>6434</th>\n",
       "      <th>6501</th>\n",
       "      <th>6530</th>\n",
       "      <th>6532</th>\n",
       "    </tr>\n",
       "    <tr>\n",
       "      <th>year</th>\n",
       "      <th></th>\n",
       "      <th></th>\n",
       "      <th></th>\n",
       "      <th></th>\n",
       "      <th></th>\n",
       "      <th></th>\n",
       "      <th></th>\n",
       "      <th></th>\n",
       "      <th></th>\n",
       "      <th></th>\n",
       "      <th></th>\n",
       "      <th></th>\n",
       "      <th></th>\n",
       "      <th></th>\n",
       "      <th></th>\n",
       "      <th></th>\n",
       "      <th></th>\n",
       "      <th></th>\n",
       "      <th></th>\n",
       "      <th></th>\n",
       "      <th></th>\n",
       "    </tr>\n",
       "  </thead>\n",
       "  <tbody>\n",
       "    <tr>\n",
       "      <th>2010</th>\n",
       "      <td>219</td>\n",
       "      <td>57</td>\n",
       "      <td>50</td>\n",
       "      <td>42</td>\n",
       "      <td>23</td>\n",
       "      <td>17</td>\n",
       "      <td>21</td>\n",
       "      <td>17</td>\n",
       "      <td>16</td>\n",
       "      <td>12</td>\n",
       "      <td>...</td>\n",
       "      <td>4</td>\n",
       "      <td>5</td>\n",
       "      <td>21</td>\n",
       "      <td>94</td>\n",
       "      <td>100</td>\n",
       "      <td>16</td>\n",
       "      <td>0</td>\n",
       "      <td>6</td>\n",
       "      <td>61</td>\n",
       "      <td>6</td>\n",
       "    </tr>\n",
       "    <tr>\n",
       "      <th>2011</th>\n",
       "      <td>272</td>\n",
       "      <td>40</td>\n",
       "      <td>60</td>\n",
       "      <td>46</td>\n",
       "      <td>32</td>\n",
       "      <td>17</td>\n",
       "      <td>29</td>\n",
       "      <td>36</td>\n",
       "      <td>32</td>\n",
       "      <td>14</td>\n",
       "      <td>...</td>\n",
       "      <td>6</td>\n",
       "      <td>2</td>\n",
       "      <td>26</td>\n",
       "      <td>113</td>\n",
       "      <td>147</td>\n",
       "      <td>32</td>\n",
       "      <td>1</td>\n",
       "      <td>2</td>\n",
       "      <td>54</td>\n",
       "      <td>9</td>\n",
       "    </tr>\n",
       "    <tr>\n",
       "      <th>2012</th>\n",
       "      <td>269</td>\n",
       "      <td>38</td>\n",
       "      <td>84</td>\n",
       "      <td>58</td>\n",
       "      <td>25</td>\n",
       "      <td>35</td>\n",
       "      <td>39</td>\n",
       "      <td>41</td>\n",
       "      <td>39</td>\n",
       "      <td>13</td>\n",
       "      <td>...</td>\n",
       "      <td>10</td>\n",
       "      <td>1</td>\n",
       "      <td>35</td>\n",
       "      <td>580</td>\n",
       "      <td>111</td>\n",
       "      <td>21</td>\n",
       "      <td>1</td>\n",
       "      <td>0</td>\n",
       "      <td>57</td>\n",
       "      <td>8</td>\n",
       "    </tr>\n",
       "    <tr>\n",
       "      <th>2013</th>\n",
       "      <td>179</td>\n",
       "      <td>33</td>\n",
       "      <td>53</td>\n",
       "      <td>37</td>\n",
       "      <td>25</td>\n",
       "      <td>21</td>\n",
       "      <td>22</td>\n",
       "      <td>32</td>\n",
       "      <td>18</td>\n",
       "      <td>7</td>\n",
       "      <td>...</td>\n",
       "      <td>4</td>\n",
       "      <td>3</td>\n",
       "      <td>39</td>\n",
       "      <td>638</td>\n",
       "      <td>89</td>\n",
       "      <td>13</td>\n",
       "      <td>0</td>\n",
       "      <td>1</td>\n",
       "      <td>83</td>\n",
       "      <td>8</td>\n",
       "    </tr>\n",
       "    <tr>\n",
       "      <th>2014</th>\n",
       "      <td>63</td>\n",
       "      <td>10</td>\n",
       "      <td>24</td>\n",
       "      <td>14</td>\n",
       "      <td>7</td>\n",
       "      <td>28</td>\n",
       "      <td>23</td>\n",
       "      <td>12</td>\n",
       "      <td>23</td>\n",
       "      <td>5</td>\n",
       "      <td>...</td>\n",
       "      <td>0</td>\n",
       "      <td>0</td>\n",
       "      <td>18</td>\n",
       "      <td>285</td>\n",
       "      <td>74</td>\n",
       "      <td>25</td>\n",
       "      <td>0</td>\n",
       "      <td>0</td>\n",
       "      <td>88</td>\n",
       "      <td>2</td>\n",
       "    </tr>\n",
       "  </tbody>\n",
       "</table>\n",
       "<p>5 rows × 126 columns</p>\n",
       "</div>"
      ],
      "text/plain": [
       "postcode  6000  6003  6004  6005  6006  6007  6008  6009  6010  6011  ...   \\\n",
       "year                                                                  ...    \n",
       "2010       219    57    50    42    23    17    21    17    16    12  ...    \n",
       "2011       272    40    60    46    32    17    29    36    32    14  ...    \n",
       "2012       269    38    84    58    25    35    39    41    39    13  ...    \n",
       "2013       179    33    53    37    25    21    22    32    18     7  ...    \n",
       "2014        63    10    24    14     7    28    23    12    23     5  ...    \n",
       "\n",
       "postcode  6237  6271  6280  6330  6430  6432  6434  6501  6530  6532  \n",
       "year                                                                  \n",
       "2010         4     5    21    94   100    16     0     6    61     6  \n",
       "2011         6     2    26   113   147    32     1     2    54     9  \n",
       "2012        10     1    35   580   111    21     1     0    57     8  \n",
       "2013         4     3    39   638    89    13     0     1    83     8  \n",
       "2014         0     0    18   285    74    25     0     0    88     2  \n",
       "\n",
       "[5 rows x 126 columns]"
      ]
     },
     "execution_count": 123,
     "metadata": {},
     "output_type": "execute_result"
    }
   ],
   "source": [
    "fault_pivot['year'] = fault_pivot.index.year\n",
    "fault_pivot.set_index('year', inplace=True)\n",
    "fault_pivot.head()"
   ]
  },
  {
   "cell_type": "code",
   "execution_count": 134,
   "metadata": {},
   "outputs": [
    {
     "data": {
      "text/plain": [
       "<matplotlib.axes._subplots.AxesSubplot at 0x12cc35240>"
      ]
     },
     "execution_count": 134,
     "metadata": {},
     "output_type": "execute_result"
    },
    {
     "data": {
      "image/png": "[encoded data removed]",
      "text/plain": [
       "<Figure size 432x288 with 1 Axes>"
      ]
     },
     "metadata": {
      "needs_background": "light"
     },
     "output_type": "display_data"
    }
   ],
   "source": [
    "fault_pivot.plot()"
   ]
  },
  {
   "cell_type": "code",
   "execution_count": null,
   "metadata": {},
   "outputs": [],
   "source": []
  }
 ],
 "metadata": {
  "kernelspec": {
   "display_name": "Python 3",
   "language": "python",
   "name": "python3"
  },
  "language_info": {
   "codemirror_mode": {
    "name": "ipython",
    "version": 3
   },
   "file_extension": ".py",
   "mimetype": "text/x-python",
   "name": "python",
   "nbconvert_exporter": "python",
   "pygments_lexer": "ipython3",
   "version": "3.6.6"
  }
 },
 "nbformat": 4,
 "nbformat_minor": 2
}
