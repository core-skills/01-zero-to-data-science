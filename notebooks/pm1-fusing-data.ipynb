{
 "cells": [
  {
   "cell_type": "markdown",
   "metadata": {},
   "source": [
    "## Predicting failures from age and temperature data\n",
    "\n",
    "Let's suppose that our hypothesis is that the failure rate is tied to the age of the pipes (as given by the install year) in some way.\n",
    "\n",
    "We're going to struggle to analyse the full dataset easily so we're going to bin things up a bit to make the datasets smaller. Hopefully there's still an interesting signal!\n",
    "\n",
    "The first thing we'll do is aggregate suburb names up to postcode level. We'll also use Australia Post postcode data to generate latitudes and longitudes.\n",
    "\n",
    "Finally we'll join the postcode level age info back onto our failure data to look at whether there's something useful to predict.\n",
    "\n",
    "### Reading in age data\n",
    "\n",
    "First we're going to look at the pipe age data from ATCO. This one is much tidier than the faults data."
   ]
  },
  {
   "cell_type": "code",
   "execution_count": 1,
   "metadata": {},
   "outputs": [
    {
     "data": {
      "text/plain": [
       "'/Users/jess/Documents/Core - Data Science Workshop/repositories/01-zero-to-data-science/data'"
      ]
     },
     "execution_count": 1,
     "metadata": {},
     "output_type": "execute_result"
    }
   ],
   "source": [
    "import pandas as pd\n",
    "import seaborn\n",
    "import numpy as np\n",
    "from os import path\n",
    "\n",
    "seaborn.set()\n",
    "\n",
    "# Setting where our data is sitting\n",
    "data_folder = path.join(\n",
    "    path.abspath('..'),  # '..' means the directory above this one\n",
    "    'data')\n",
    "data_folder"
   ]
  },
  {
   "cell_type": "code",
   "execution_count": 2,
   "metadata": {},
   "outputs": [
    {
     "data": {
      "text/plain": [
       "['Earliest Mains by Suburbs',\n",
       " 'ArcFM Data',\n",
       " 'Filtered Fields',\n",
       " 'Pivot',\n",
       " 'Suburb_Age_Length_Material',\n",
       " 'HP Age Profile',\n",
       " 'Age Profile Chart',\n",
       " 'Mean PVC Age Profile']"
      ]
     },
     "execution_count": 2,
     "metadata": {},
     "output_type": "execute_result"
    }
   ],
   "source": [
    "age_file = path.join(data_folder, 'Mains_Age_Profile_Estimation 250516.xlsm')\n",
    "age_xl = pd.ExcelFile(age_file)\n",
    "age_xl.sheet_names"
   ]
  },
  {
   "cell_type": "markdown",
   "metadata": {},
   "source": [
    "Next we can parse the data"
   ]
  },
  {
   "cell_type": "code",
   "execution_count": 3,
   "metadata": {},
   "outputs": [
    {
     "data": {
      "text/plain": [
       "count    559101.000000\n",
       "mean       1996.216068\n",
       "std           6.155449\n",
       "min        1900.000000\n",
       "25%        1992.000000\n",
       "50%        1993.000000\n",
       "75%        1998.000000\n",
       "max        2018.000000\n",
       "Name: year, dtype: float64"
      ]
     },
     "execution_count": 3,
     "metadata": {},
     "output_type": "execute_result"
    }
   ],
   "source": [
    "age_data = age_xl.parse('ArcFM Data')\n",
    "\n",
    "# rename columns so we aren't yelling all the time\n",
    "new_names = {\n",
    "    'INSTALLATI': 'installation',\n",
    "    'Year': 'year',\n",
    "    'NOMINALDIA': 'nominal_diameter',\n",
    "    'ACTUALINTE': 'actual_interior_diameter',\n",
    "    'MATERIAL': 'material',\n",
    "    'MEASUREDLE': 'measured_length',\n",
    "    'MOAP': 'moap',\n",
    "    'GAS_TYPE': 'gas_type',\n",
    "    'DIST_LEVEL': 'dist_level',\n",
    "    'MATERIAL_T': 'material_type',\n",
    "    'PIPE_NAME': 'pipe_name',\n",
    "    'SUBURB': 'suburb',\n",
    "    'POSTCODE': 'postcode',\n",
    "    'SHAPE_LEN': 'mapped_length'\n",
    "}\n",
    "age_data.rename(columns=new_names, inplace=True)\n",
    "\n",
    "# there are some strange numbers in the age data - we just clip these to 2018\n",
    "age_data.year = np.clip(age_data.year, age_data.year.min(), 2018)\n",
    "\n",
    "# Let's see what we've got\n",
    "age_data.year.describe()"
   ]
  },
  {
   "cell_type": "markdown",
   "metadata": {},
   "source": [
    "The next step is to generate quantiles for age for each postcode. We do this by iterating over the records and generating the quantiles row by row (there's probably better ways to do this but we're running towards getting something up at the moment)"
   ]
  },
  {
   "cell_type": "code",
   "execution_count": 4,
   "metadata": {},
   "outputs": [
    {
     "data": {
      "text/html": [
       "<div>\n",
       "<style scoped>\n",
       "    .dataframe tbody tr th:only-of-type {\n",
       "        vertical-align: middle;\n",
       "    }\n",
       "\n",
       "    .dataframe tbody tr th {\n",
       "        vertical-align: top;\n",
       "    }\n",
       "\n",
       "    .dataframe thead th {\n",
       "        text-align: right;\n",
       "    }\n",
       "</style>\n",
       "<table border=\"1\" class=\"dataframe\">\n",
       "  <thead>\n",
       "    <tr style=\"text-align: right;\">\n",
       "      <th></th>\n",
       "      <th>q0</th>\n",
       "      <th>q25</th>\n",
       "      <th>q50</th>\n",
       "      <th>q75</th>\n",
       "      <th>q100</th>\n",
       "    </tr>\n",
       "    <tr>\n",
       "      <th>postcode</th>\n",
       "      <th></th>\n",
       "      <th></th>\n",
       "      <th></th>\n",
       "      <th></th>\n",
       "      <th></th>\n",
       "    </tr>\n",
       "  </thead>\n",
       "  <tbody>\n",
       "    <tr>\n",
       "      <th>0</th>\n",
       "      <td>1991.0</td>\n",
       "      <td>1991.0</td>\n",
       "      <td>1993.0</td>\n",
       "      <td>1993.0</td>\n",
       "      <td>2012.0</td>\n",
       "    </tr>\n",
       "    <tr>\n",
       "      <th>6000</th>\n",
       "      <td>1991.0</td>\n",
       "      <td>1993.0</td>\n",
       "      <td>1993.0</td>\n",
       "      <td>1994.0</td>\n",
       "      <td>2013.0</td>\n",
       "    </tr>\n",
       "    <tr>\n",
       "      <th>6003</th>\n",
       "      <td>1993.0</td>\n",
       "      <td>1993.0</td>\n",
       "      <td>1994.0</td>\n",
       "      <td>1995.0</td>\n",
       "      <td>2011.0</td>\n",
       "    </tr>\n",
       "    <tr>\n",
       "      <th>6004</th>\n",
       "      <td>1986.0</td>\n",
       "      <td>1993.0</td>\n",
       "      <td>1993.0</td>\n",
       "      <td>1995.0</td>\n",
       "      <td>2018.0</td>\n",
       "    </tr>\n",
       "    <tr>\n",
       "      <th>6005</th>\n",
       "      <td>1993.0</td>\n",
       "      <td>1994.0</td>\n",
       "      <td>1994.0</td>\n",
       "      <td>1998.0</td>\n",
       "      <td>2013.0</td>\n",
       "    </tr>\n",
       "  </tbody>\n",
       "</table>\n",
       "</div>"
      ],
      "text/plain": [
       "              q0     q25     q50     q75    q100\n",
       "postcode                                        \n",
       "0         1991.0  1991.0  1993.0  1993.0  2012.0\n",
       "6000      1991.0  1993.0  1993.0  1994.0  2013.0\n",
       "6003      1993.0  1993.0  1994.0  1995.0  2011.0\n",
       "6004      1986.0  1993.0  1993.0  1995.0  2018.0\n",
       "6005      1993.0  1994.0  1994.0  1998.0  2013.0"
      ]
     },
     "execution_count": 4,
     "metadata": {},
     "output_type": "execute_result"
    }
   ],
   "source": [
    "features = pd.DataFrame.from_records([\n",
    "        (postcode, df.year.min(), df.year.quantile(0.25), df.year.median(), \n",
    "                    df.year.quantile(0.75), df.year.max())\n",
    "        for postcode, df in age_data.groupby('postcode')\n",
    "    ], \n",
    "    columns=('postcode', 'q0', 'q25', 'q50', 'q75', 'q100'),\n",
    "    index='postcode'\n",
    ")\n",
    "\n",
    "features.head()"
   ]
  },
  {
   "cell_type": "markdown",
   "metadata": {},
   "source": [
    "Now we can take the postcode data and use this to extract a latitude and longitude for each postcode. We're using an inner join on the postcode indices to only get the values we care about"
   ]
  },
  {
   "cell_type": "code",
   "execution_count": 5,
   "metadata": {},
   "outputs": [
    {
     "data": {
      "text/html": [
       "<div>\n",
       "<style scoped>\n",
       "    .dataframe tbody tr th:only-of-type {\n",
       "        vertical-align: middle;\n",
       "    }\n",
       "\n",
       "    .dataframe tbody tr th {\n",
       "        vertical-align: top;\n",
       "    }\n",
       "\n",
       "    .dataframe thead th {\n",
       "        text-align: right;\n",
       "    }\n",
       "</style>\n",
       "<table border=\"1\" class=\"dataframe\">\n",
       "  <thead>\n",
       "    <tr style=\"text-align: right;\">\n",
       "      <th></th>\n",
       "      <th>longitude</th>\n",
       "      <th>latitude</th>\n",
       "      <th>locality</th>\n",
       "    </tr>\n",
       "    <tr>\n",
       "      <th>postcode</th>\n",
       "      <th></th>\n",
       "      <th></th>\n",
       "      <th></th>\n",
       "    </tr>\n",
       "  </thead>\n",
       "  <tbody>\n",
       "    <tr>\n",
       "      <th>200</th>\n",
       "      <td>149.117136</td>\n",
       "      <td>-35.277272</td>\n",
       "      <td>AUSTRALIAN NATIONAL UNIVERSITY</td>\n",
       "    </tr>\n",
       "    <tr>\n",
       "      <th>800</th>\n",
       "      <td>130.955789</td>\n",
       "      <td>-12.801028</td>\n",
       "      <td>DARWIN</td>\n",
       "    </tr>\n",
       "    <tr>\n",
       "      <th>801</th>\n",
       "      <td>130.955789</td>\n",
       "      <td>-12.801028</td>\n",
       "      <td>DARWIN</td>\n",
       "    </tr>\n",
       "    <tr>\n",
       "      <th>804</th>\n",
       "      <td>130.843310</td>\n",
       "      <td>-12.432181</td>\n",
       "      <td>PARAP</td>\n",
       "    </tr>\n",
       "    <tr>\n",
       "      <th>810</th>\n",
       "      <td>130.873472</td>\n",
       "      <td>-12.376967</td>\n",
       "      <td>ALAWA, BRINKIN, CASUARINA, JINGILI, LEE POINT,...</td>\n",
       "    </tr>\n",
       "  </tbody>\n",
       "</table>\n",
       "</div>"
      ],
      "text/plain": [
       "           longitude   latitude  \\\n",
       "postcode                          \n",
       "200       149.117136 -35.277272   \n",
       "800       130.955789 -12.801028   \n",
       "801       130.955789 -12.801028   \n",
       "804       130.843310 -12.432181   \n",
       "810       130.873472 -12.376967   \n",
       "\n",
       "                                                   locality  \n",
       "postcode                                                     \n",
       "200                          AUSTRALIAN NATIONAL UNIVERSITY  \n",
       "800                                                  DARWIN  \n",
       "801                                                  DARWIN  \n",
       "804                                                   PARAP  \n",
       "810       ALAWA, BRINKIN, CASUARINA, JINGILI, LEE POINT,...  "
      ]
     },
     "execution_count": 5,
     "metadata": {},
     "output_type": "execute_result"
    }
   ],
   "source": [
    "raw_postcodes = \\\n",
    "    pd.read_csv(path.join(data_folder, 'australian_postcodes.csv')) \\\n",
    "      .dropna(how='any')\n",
    "\n",
    "# We have to remove duplicate records (there's one for each suburb) so we aggregate them up\n",
    "postcodes = pd.DataFrame.from_records([\n",
    "        (postcode, df.long.mean(), df.lat.mean(), ', '.join(df.locality))\n",
    "        for postcode, df in raw_postcodes.groupby('postcode')\n",
    "    ],\n",
    "    columns=('postcode', 'longitude', 'latitude', 'locality'),\n",
    "    index='postcode'\n",
    ")\n",
    "postcodes.head()"
   ]
  },
  {
   "cell_type": "markdown",
   "metadata": {},
   "source": [
    "Now we can join the two tables together to get one table with all the relevant information"
   ]
  },
  {
   "cell_type": "code",
   "execution_count": 6,
   "metadata": {},
   "outputs": [
    {
     "data": {
      "text/html": [
       "<div>\n",
       "<style scoped>\n",
       "    .dataframe tbody tr th:only-of-type {\n",
       "        vertical-align: middle;\n",
       "    }\n",
       "\n",
       "    .dataframe tbody tr th {\n",
       "        vertical-align: top;\n",
       "    }\n",
       "\n",
       "    .dataframe thead th {\n",
       "        text-align: right;\n",
       "    }\n",
       "</style>\n",
       "<table border=\"1\" class=\"dataframe\">\n",
       "  <thead>\n",
       "    <tr style=\"text-align: right;\">\n",
       "      <th></th>\n",
       "      <th>q0</th>\n",
       "      <th>q25</th>\n",
       "      <th>q50</th>\n",
       "      <th>q75</th>\n",
       "      <th>q100</th>\n",
       "      <th>longitude</th>\n",
       "      <th>latitude</th>\n",
       "      <th>locality</th>\n",
       "    </tr>\n",
       "    <tr>\n",
       "      <th>postcode</th>\n",
       "      <th></th>\n",
       "      <th></th>\n",
       "      <th></th>\n",
       "      <th></th>\n",
       "      <th></th>\n",
       "      <th></th>\n",
       "      <th></th>\n",
       "      <th></th>\n",
       "    </tr>\n",
       "  </thead>\n",
       "  <tbody>\n",
       "    <tr>\n",
       "      <th>6000</th>\n",
       "      <td>1991.0</td>\n",
       "      <td>1993.0</td>\n",
       "      <td>1993.0</td>\n",
       "      <td>1994.0</td>\n",
       "      <td>2013.0</td>\n",
       "      <td>115.859912</td>\n",
       "      <td>-31.948762</td>\n",
       "      <td>PERTH</td>\n",
       "    </tr>\n",
       "    <tr>\n",
       "      <th>6003</th>\n",
       "      <td>1993.0</td>\n",
       "      <td>1993.0</td>\n",
       "      <td>1994.0</td>\n",
       "      <td>1995.0</td>\n",
       "      <td>2011.0</td>\n",
       "      <td>0.000000</td>\n",
       "      <td>0.000000</td>\n",
       "      <td>HIGHGATE, NORTHBRIDGE</td>\n",
       "    </tr>\n",
       "    <tr>\n",
       "      <th>6004</th>\n",
       "      <td>1986.0</td>\n",
       "      <td>1993.0</td>\n",
       "      <td>1993.0</td>\n",
       "      <td>1995.0</td>\n",
       "      <td>2018.0</td>\n",
       "      <td>115.874601</td>\n",
       "      <td>-31.956931</td>\n",
       "      <td>EAST PERTH</td>\n",
       "    </tr>\n",
       "    <tr>\n",
       "      <th>6005</th>\n",
       "      <td>1993.0</td>\n",
       "      <td>1994.0</td>\n",
       "      <td>1994.0</td>\n",
       "      <td>1998.0</td>\n",
       "      <td>2013.0</td>\n",
       "      <td>115.836896</td>\n",
       "      <td>-31.957070</td>\n",
       "      <td>KINGS PARK, WEST PERTH</td>\n",
       "    </tr>\n",
       "    <tr>\n",
       "      <th>6006</th>\n",
       "      <td>1993.0</td>\n",
       "      <td>1994.0</td>\n",
       "      <td>1994.0</td>\n",
       "      <td>1996.0</td>\n",
       "      <td>2013.0</td>\n",
       "      <td>115.852913</td>\n",
       "      <td>-31.929340</td>\n",
       "      <td>NORTH PERTH</td>\n",
       "    </tr>\n",
       "  </tbody>\n",
       "</table>\n",
       "</div>"
      ],
      "text/plain": [
       "              q0     q25     q50     q75    q100   longitude   latitude  \\\n",
       "postcode                                                                  \n",
       "6000      1991.0  1993.0  1993.0  1994.0  2013.0  115.859912 -31.948762   \n",
       "6003      1993.0  1993.0  1994.0  1995.0  2011.0    0.000000   0.000000   \n",
       "6004      1986.0  1993.0  1993.0  1995.0  2018.0  115.874601 -31.956931   \n",
       "6005      1993.0  1994.0  1994.0  1998.0  2013.0  115.836896 -31.957070   \n",
       "6006      1993.0  1994.0  1994.0  1996.0  2013.0  115.852913 -31.929340   \n",
       "\n",
       "                        locality  \n",
       "postcode                          \n",
       "6000                       PERTH  \n",
       "6003       HIGHGATE, NORTHBRIDGE  \n",
       "6004                  EAST PERTH  \n",
       "6005      KINGS PARK, WEST PERTH  \n",
       "6006                 NORTH PERTH  "
      ]
     },
     "execution_count": 6,
     "metadata": {},
     "output_type": "execute_result"
    }
   ],
   "source": [
    "features = features.join(postcodes, how='inner')\n",
    "features.head()"
   ]
  },
  {
   "cell_type": "markdown",
   "metadata": {},
   "source": [
    "and now we can see the spread of postcodes around Perth with a quick scatter plot"
   ]
  },
  {
   "cell_type": "code",
   "execution_count": 7,
   "metadata": {},
   "outputs": [
    {
     "data": {
      "image/png": "[encoded data removed]",
      "text/plain": [
       "<Figure size 432x288 with 1 Axes>"
      ]
     },
     "metadata": {
      "needs_background": "light"
     },
     "output_type": "display_data"
    }
   ],
   "source": [
    "ax = features.plot('longitude', 'latitude', kind='scatter')\n",
    "ax.set_xlim(115, 117)\n",
    "ax.set_ylim(-34, -31)\n",
    "ax.set_aspect(1)"
   ]
  },
  {
   "cell_type": "markdown",
   "metadata": {},
   "source": [
    "The latitude and longitude columns are really one feature of the data - a geographic point. We should prefer to represent these using a geospatial data type. [geopandas](http://geopandas.org) is an extension to pandas that adds support for geospatial data - you can think of this as giving you an in-memory spatial database (much as pandas gives you an in-memory regular database).\n",
    "\n",
    "Geopandas also lets you read vector data (e.g. shapefiles) directly which can be really handy when you want to munge spatial and non-spatial data together.\n",
    "\n",
    "First we transform the dataframe to a geopandas GeoDataFrame"
   ]
  },
  {
   "cell_type": "code",
   "execution_count": 8,
   "metadata": {},
   "outputs": [],
   "source": [
    "import geopandas as gpd\n",
    "from shapely.geometry import Point\n",
    "\n",
    "points = zip(features.longitude, features.latitude)\n",
    "geometry = [Point(p) for p in points]\n",
    "crs = {'init': 'epsg:4326'}  # WGS84 coordinate system)\n",
    "\n",
    "# now we do the conversion\n",
    "features = gpd.GeoDataFrame(features, crs=crs, geometry=geometry)"
   ]
  },
  {
   "cell_type": "markdown",
   "metadata": {},
   "source": [
    "Then we can use geoplot to plot our data nicely on the map while visualizing other features"
   ]
  },
  {
   "cell_type": "code",
   "execution_count": 20,
   "metadata": {},
   "outputs": [
    {
     "data": {
      "image/png": "[encoded data removed]",
      "text/plain": [
       "<Figure size 576x2304 with 1 Axes>"
      ]
     },
     "metadata": {
      "needs_background": "light"
     },
     "output_type": "display_data"
    }
   ],
   "source": [
    "import matplotlib.pyplot as plt\n",
    "import geoplot as gplt\n",
    "import geoplot.crs as gcrs\n",
    "\n",
    "extent = (113, 117, -36, -20)\n",
    "# extent = (100, 160, -85, 0)\n",
    "ax = gplt.pointplot(\n",
    "    features, hue='q50', \n",
    "    extent=extent, \n",
    "    projection=gcrs.AlbersEqualArea(central_longitude=116, central_latitude=-32.5))\n",
    "ax.coastlines(resolution='10m')\n",
    "ax.stock_img()\n",
    "\n",
    "# Make sure we're plotting equal aspect ratio\n",
    "aspect = (extent[3] - extent[2]) / (extent[1] - extent[0])\n",
    "plt.gcf().set_size_inches(8, 8 * aspect)"
   ]
  },
  {
   "cell_type": "markdown",
   "metadata": {},
   "source": [
    "### Aligning suburb codes from faults data\n",
    "\n",
    "Next we need to align the shortened suburb names from the faults data with the long versions in our postcode data.\n",
    "\n",
    "There's quite a few of these so it's worth thinking how to do this programatically.\n",
    "\n",
    "First we load up our clean data"
   ]
  },
  {
   "cell_type": "code",
   "execution_count": 23,
   "metadata": {},
   "outputs": [],
   "source": [
    "import feather\n",
    "\n",
    "feather_file = path.join(data_folder, 'faults_data_2010_2016.feather')\n",
    "clean = feather.read_dataframe(feather_file)"
   ]
  },
  {
   "cell_type": "markdown",
   "metadata": {},
   "source": [
    "So lets take a look at what we've got"
   ]
  },
  {
   "cell_type": "code",
   "execution_count": 36,
   "metadata": {},
   "outputs": [
    {
     "data": {
      "text/plain": [
       "[CAPEL, PNJRR, BSNDN, WNGRA, ALKMS]\n",
       "Categories (418, object): [CAPEL, PNJRR, BSNDN, WNGRA, ..., PKLDS, FURDALE, RED H, WNGNG]"
      ]
     },
     "execution_count": 36,
     "metadata": {},
     "output_type": "execute_result"
    }
   ],
   "source": [
    "abbrev_subrubs = clean.suburb.unique()\n",
    "abbrev_subrubs[:5]"
   ]
  },
  {
   "cell_type": "code",
   "execution_count": 34,
   "metadata": {},
   "outputs": [
    {
     "data": {
      "text/plain": [
       "array(['PALMYRA', 'BICTON', 'KARDINYA', 'EAST FREMANTLE', 'NORTH FREMANTLE'], dtype=object)"
      ]
     },
     "execution_count": 34,
     "metadata": {},
     "output_type": "execute_result"
    }
   ],
   "source": [
    "full_suburbs = age_data.suburb.unique()\n",
    "full_suburbs[:5]"
   ]
  },
  {
   "cell_type": "markdown",
   "metadata": {},
   "source": [
    "Let's write a little function to test whether one string is an abbreviation for the other."
   ]
  },
  {
   "cell_type": "code",
   "execution_count": 39,
   "metadata": {},
   "outputs": [],
   "source": [
    "def is_abbrev(abbrev, text):\n",
    "    \"\"\" \n",
    "    Check whether abbrev is a valid abbreviation for text\n",
    "    \n",
    "    Parameters:\n",
    "        abbrev - the abbreviated text\n",
    "        text - the text to match against\n",
    "    \"\"\"\n",
    "    try:\n",
    "        abbrev=abbrev.lower()\n",
    "        text=text.lower()\n",
    "        words=text.split()\n",
    "    except AttributeError:\n",
    "        # We don't have text!\n",
    "        return False\n",
    "    if not abbrev:\n",
    "        return True\n",
    "    if abbrev and not text:\n",
    "        return False\n",
    "    if abbrev[0]!=text[0]:\n",
    "        return False\n",
    "    else:\n",
    "        return (is_abbrev(abbrev[1:],' '.join(words[1:])) or\n",
    "                any(is_abbrev(abbrev[1:],text[i+1:])\n",
    "                    for i in range(len(words[0]))))"
   ]
  },
  {
   "cell_type": "markdown",
   "metadata": {},
   "source": [
    "Now we can match one set of suburbs against the other. To speed things up we're going to assume that the abbreviation and suburb start with the same letter"
   ]
  },
  {
   "cell_type": "code",
   "execution_count": 46,
   "metadata": {},
   "outputs": [
    {
     "name": "stdout",
     "output_type": "stream",
     "text": [
      "Couldn't work out nan\n",
      "Couldn't work out WLKWY\n",
      "Couldn't work out BRD WOOD\n",
      "Couldn't work out CLIFTON\n",
      "Couldn't work out LNDSLDE\n",
      "Couldn't work out VINES\n",
      "Couldn't work out NOWRGP\n",
      "Couldn't work out WHITMN\n",
      "Couldn't work out OCCNR\n",
      "Couldn't work out BWICK JN\n",
      "Couldn't work out CRCKD BK\n",
      "Couldn't work out DPDLE\n",
      "Couldn't work out FURDALE\n"
     ]
    }
   ],
   "source": [
    "suburb_mapping = {}\n",
    "for abbrev in abbrev_subrubs:\n",
    "    # Loop through the list and check whether we have an abbreviation\n",
    "    possible_matches = [s for s in full_suburbs if is_abbrev(abbrev, s)]\n",
    "    \n",
    "    # We're lazy and we'll just take the first match\n",
    "    if possible_matches:\n",
    "        suburb_mapping[abbrev] = possible_matches[0]\n",
    "    else:\n",
    "        print(f\"Couldn't work out {abbrev}\")\n",
    "        suburb_mapping[abbrev] = None"
   ]
  },
  {
   "cell_type": "markdown",
   "metadata": {},
   "source": [
    "and we're done!"
   ]
  },
  {
   "cell_type": "code",
   "execution_count": 51,
   "metadata": {},
   "outputs": [
    {
     "data": {
      "text/plain": [
       "[('CAPEL', 'CAPEL'),\n",
       " ('PNJRR', 'PINJARRA'),\n",
       " ('BSNDN', 'BASSENDEAN'),\n",
       " ('WNGRA', 'WANGARA'),\n",
       " ('ALKMS', 'ALKIMOS'),\n",
       " (nan, None),\n",
       " ('WLGEE', 'WILLAGEE'),\n",
       " ('E FTLE', 'EAST FREMANTLE'),\n",
       " ('SPNCR PRK', 'SPENCER PARK'),\n",
       " ('MT CLRNC', 'MOUNT CLARENCE')]"
      ]
     },
     "execution_count": 51,
     "metadata": {},
     "output_type": "execute_result"
    }
   ],
   "source": [
    "list(suburb_mapping.items())[:10]"
   ]
  },
  {
   "cell_type": "code",
   "execution_count": 52,
   "metadata": {},
   "outputs": [
    {
     "data": {
      "text/html": [
       "<div>\n",
       "<style scoped>\n",
       "    .dataframe tbody tr th:only-of-type {\n",
       "        vertical-align: middle;\n",
       "    }\n",
       "\n",
       "    .dataframe tbody tr th {\n",
       "        vertical-align: top;\n",
       "    }\n",
       "\n",
       "    .dataframe thead th {\n",
       "        text-align: right;\n",
       "    }\n",
       "</style>\n",
       "<table border=\"1\" class=\"dataframe\">\n",
       "  <thead>\n",
       "    <tr style=\"text-align: right;\">\n",
       "      <th></th>\n",
       "      <th>pipe_size</th>\n",
       "      <th>code_group_0</th>\n",
       "      <th>code_group_1</th>\n",
       "      <th>pressure_rating</th>\n",
       "      <th>pipe_material</th>\n",
       "      <th>damage_code</th>\n",
       "      <th>cause_code</th>\n",
       "      <th>object_part_code</th>\n",
       "      <th>location</th>\n",
       "      <th>suburb</th>\n",
       "    </tr>\n",
       "  </thead>\n",
       "  <tbody>\n",
       "    <tr>\n",
       "      <th>0</th>\n",
       "      <td>150.0</td>\n",
       "      <td>MNWORK</td>\n",
       "      <td>MNREQUST</td>\n",
       "      <td>HP</td>\n",
       "      <td>ST</td>\n",
       "      <td>CHCK</td>\n",
       "      <td>CUST</td>\n",
       "      <td>PIPE</td>\n",
       "      <td>BS</td>\n",
       "      <td>CAPEL</td>\n",
       "    </tr>\n",
       "    <tr>\n",
       "      <th>1</th>\n",
       "      <td>50.0</td>\n",
       "      <td>MNWORK</td>\n",
       "      <td>MNREQUST</td>\n",
       "      <td>HP</td>\n",
       "      <td>ST</td>\n",
       "      <td>CHCK</td>\n",
       "      <td>AGAS</td>\n",
       "      <td>PIPE</td>\n",
       "      <td>MA</td>\n",
       "      <td>PNJRR</td>\n",
       "    </tr>\n",
       "    <tr>\n",
       "      <th>2</th>\n",
       "      <td>80.0</td>\n",
       "      <td>SNSERSTD</td>\n",
       "      <td>NaN</td>\n",
       "      <td>HP</td>\n",
       "      <td>ST</td>\n",
       "      <td>NEW</td>\n",
       "      <td>NaN</td>\n",
       "      <td>PIPE</td>\n",
       "      <td>NM</td>\n",
       "      <td>BSNDN</td>\n",
       "    </tr>\n",
       "    <tr>\n",
       "      <th>3</th>\n",
       "      <td>100.0</td>\n",
       "      <td>MNWORK</td>\n",
       "      <td>MNCAUSE</td>\n",
       "      <td>MP</td>\n",
       "      <td>PVC</td>\n",
       "      <td>CHCK</td>\n",
       "      <td>3PTY</td>\n",
       "      <td>PIPE</td>\n",
       "      <td>NM</td>\n",
       "      <td>WNGRA</td>\n",
       "    </tr>\n",
       "    <tr>\n",
       "      <th>4</th>\n",
       "      <td>225.0</td>\n",
       "      <td>MNWORK</td>\n",
       "      <td>MNREQUST</td>\n",
       "      <td>HP</td>\n",
       "      <td>PE</td>\n",
       "      <td>CHCK</td>\n",
       "      <td>CUST</td>\n",
       "      <td>PIPE</td>\n",
       "      <td>NM</td>\n",
       "      <td>ALKMS</td>\n",
       "    </tr>\n",
       "  </tbody>\n",
       "</table>\n",
       "</div>"
      ],
      "text/plain": [
       "   pipe_size code_group_0 code_group_1 pressure_rating pipe_material  \\\n",
       "0      150.0       MNWORK     MNREQUST              HP            ST   \n",
       "1       50.0       MNWORK     MNREQUST              HP            ST   \n",
       "2       80.0     SNSERSTD          NaN              HP            ST   \n",
       "3      100.0       MNWORK      MNCAUSE              MP           PVC   \n",
       "4      225.0       MNWORK     MNREQUST              HP            PE   \n",
       "\n",
       "  damage_code cause_code object_part_code location suburb  \n",
       "0        CHCK       CUST             PIPE       BS  CAPEL  \n",
       "1        CHCK       AGAS             PIPE       MA  PNJRR  \n",
       "2         NEW        NaN             PIPE       NM  BSNDN  \n",
       "3        CHCK       3PTY             PIPE       NM  WNGRA  \n",
       "4        CHCK       CUST             PIPE       NM  ALKMS  "
      ]
     },
     "execution_count": 52,
     "metadata": {},
     "output_type": "execute_result"
    }
   ],
   "source": [
    "clean.head()"
   ]
  },
  {
   "cell_type": "markdown",
   "metadata": {},
   "source": [
    "### Downloading temperature data\n",
    "\n",
    "We're going to use bomber to do the download"
   ]
  },
  {
   "cell_type": "code",
   "execution_count": 10,
   "metadata": {},
   "outputs": [
    {
     "name": "stdout",
     "output_type": "stream",
     "text": [
      "Solving environment: done\n",
      "\n",
      "## Package Plan ##\n",
      "\n",
      "  environment location: /anaconda3/envs/week01\n",
      "\n",
      "  added / updated specs: \n",
      "    - cartopy\n",
      "    - geopandas\n",
      "\n",
      "\n",
      "The following packages will be downloaded:\n",
      "\n",
      "    package                    |            build\n",
      "    ---------------------------|-----------------\n",
      "    pyproj-1.9.5.1             |   py36h508ed2a_3          58 KB  conda-forge\n",
      "    pyshp-1.2.12               |             py_0          22 KB  conda-forge\n",
      "    libspatialindex-1.8.5      |       hfc679d8_3         693 KB  conda-forge\n",
      "    libxslt-1.1.32             |       h88dbc4e_2         528 KB  conda-forge\n",
      "    requests-2.19.1            |           py36_1          94 KB  conda-forge\n",
      "    munch-2.3.2                |             py_0           8 KB  conda-forge\n",
      "    gdal-2.2.4                 |   py36hb00a9d7_1         865 KB  conda-forge\n",
      "    shapely-1.6.4              |   py36h164cb2d_1         318 KB  conda-forge\n",
      "    psycopg2-2.7.5             |   py36hdffb7b8_1         286 KB  conda-forge\n",
      "    descartes-1.1.0            |             py_2           6 KB  conda-forge\n",
      "    owslib-0.16.0              |             py_1         100 KB  conda-forge\n",
      "    olefile-0.46               |             py_0          31 KB  conda-forge\n",
      "    pyepsg-0.3.2               |             py_1           9 KB  conda-forge\n",
      "    fiona-1.7.13               |   py36hb00a9d7_3         767 KB  conda-forge\n",
      "    pillow-5.2.0               |   py36hc736899_1         542 KB  conda-forge\n",
      "    chardet-3.0.4              |           py36_3         188 KB  conda-forge\n",
      "    rtree-0.8.3                |           py36_0          43 KB  conda-forge\n",
      "    sqlalchemy-1.2.11          |   py36h470a237_0         1.6 MB  conda-forge\n",
      "    geopandas-0.4.0            |             py_1         884 KB  conda-forge\n",
      "    lxml-4.2.5                 |   py36hc9114bc_0         1.7 MB  conda-forge\n",
      "    pysal-1.14.4.post2         |           py36_0        15.1 MB  conda-forge\n",
      "    cartopy-0.16.0             |   py36h81b52dc_2         1.7 MB  conda-forge\n",
      "    ------------------------------------------------------------\n",
      "                                           Total:        25.4 MB\n",
      "\n",
      "The following NEW packages will be INSTALLED:\n",
      "\n",
      "    cartopy:         0.16.0-py36h81b52dc_2  conda-forge\n",
      "    chardet:         3.0.4-py36_3           conda-forge\n",
      "    descartes:       1.1.0-py_2             conda-forge\n",
      "    fiona:           1.7.13-py36hb00a9d7_3  conda-forge\n",
      "    gdal:            2.2.4-py36hb00a9d7_1   conda-forge\n",
      "    geopandas:       0.4.0-py_1             conda-forge\n",
      "    libspatialindex: 1.8.5-hfc679d8_3       conda-forge\n",
      "    libxslt:         1.1.32-h88dbc4e_2      conda-forge\n",
      "    lxml:            4.2.5-py36hc9114bc_0   conda-forge\n",
      "    munch:           2.3.2-py_0             conda-forge\n",
      "    olefile:         0.46-py_0              conda-forge\n",
      "    owslib:          0.16.0-py_1            conda-forge\n",
      "    pillow:          5.2.0-py36hc736899_1   conda-forge\n",
      "    psycopg2:        2.7.5-py36hdffb7b8_1   conda-forge\n",
      "    pyepsg:          0.3.2-py_1             conda-forge\n",
      "    pyproj:          1.9.5.1-py36h508ed2a_3 conda-forge\n",
      "    pysal:           1.14.4.post2-py36_0    conda-forge\n",
      "    pyshp:           1.2.12-py_0            conda-forge\n",
      "    requests:        2.19.1-py36_1          conda-forge\n",
      "    rtree:           0.8.3-py36_0           conda-forge\n",
      "    shapely:         1.6.4-py36h164cb2d_1   conda-forge\n",
      "    sqlalchemy:      1.2.11-py36h470a237_0  conda-forge\n",
      "\n",
      "\n",
      "Downloading and Extracting Packages\n",
      "pyproj-1.9.5.1       | 58 KB     | ##################################### | 100% \n",
      "pyshp-1.2.12         | 22 KB     | ##################################### | 100% \n",
      "libspatialindex-1.8. | 693 KB    | ##################################### | 100% \n",
      "libxslt-1.1.32       | 528 KB    | ##################################### | 100% \n",
      "requests-2.19.1      | 94 KB     | ##################################### | 100% \n",
      "munch-2.3.2          | 8 KB      | ##################################### | 100% \n",
      "gdal-2.2.4           | 865 KB    | ##################################### | 100% \n",
      "shapely-1.6.4        | 318 KB    | ##################################### | 100% \n",
      "psycopg2-2.7.5       | 286 KB    | ##################################### | 100% \n",
      "descartes-1.1.0      | 6 KB      | ##################################### | 100% \n",
      "owslib-0.16.0        | 100 KB    | ##################################### | 100% \n",
      "olefile-0.46         | 31 KB     | ##################################### | 100% \n",
      "pyepsg-0.3.2         | 9 KB      | ##################################### | 100% \n",
      "fiona-1.7.13         | 767 KB    | ##################################### | 100% \n",
      "pillow-5.2.0         | 542 KB    | ##################################### | 100% \n",
      "chardet-3.0.4        | 188 KB    | ##################################### | 100% \n",
      "rtree-0.8.3          | 43 KB     | ##################################### | 100% \n",
      "sqlalchemy-1.2.11    | 1.6 MB    | ##################################### | 100% \n",
      "geopandas-0.4.0      | 884 KB    | ##################################### | 100% \n",
      "lxml-4.2.5           | 1.7 MB    | ##################################### | 100% \n",
      "pysal-1.14.4.post2   | 15.1 MB   | ##################################### | 100% \n",
      "cartopy-0.16.0       | 1.7 MB    | ##################################### | 100% \n",
      "Preparing transaction: done\n",
      "Verifying transaction: done\n",
      "Executing transaction: done\n"
     ]
    }
   ],
   "source": [
    "!conda install cartopy geopandas"
   ]
  },
  {
   "cell_type": "code",
   "execution_count": 1,
   "metadata": {},
   "outputs": [
    {
     "name": "stdout",
     "output_type": "stream",
     "text": [
      "You need to install p7zip - try with `brew install p7zip`\n"
     ]
    },
    {
     "data": {
      "text/plain": [
       "{'temperature': ['maxave', 'minave'],\n",
       " 'rainfall': ['totals'],\n",
       " 'vprp': ['vprp09', 'vprp15'],\n",
       " 'solar': ['solarave'],\n",
       " 'ndvi': ['ndviave']}"
      ]
     },
     "execution_count": 1,
     "metadata": {},
     "output_type": "execute_result"
    }
   ],
   "source": [
    "import bomber\n",
    "\n",
    "bomber.measurements.DATASETS"
   ]
  },
  {
   "cell_type": "code",
   "execution_count": 2,
   "metadata": {},
   "outputs": [
    {
     "data": {
      "text/plain": [
       "'0.0.5.dev2'"
      ]
     },
     "execution_count": 2,
     "metadata": {},
     "output_type": "execute_result"
    }
   ],
   "source": [
    "bomber.__version__"
   ]
  },
  {
   "cell_type": "code",
   "execution_count": 3,
   "metadata": {},
   "outputs": [
    {
     "ename": "FileNotFoundError",
     "evalue": "[Errno 2] No such file or directory: '7za': '7za'",
     "output_type": "error",
     "traceback": [
      "\u001b[0;31m---------------------------------------------------------------------------\u001b[0m",
      "\u001b[0;31mFileNotFoundError\u001b[0m                         Traceback (most recent call last)",
      "\u001b[0;32m<ipython-input-3-3bb3b8aa747a>\u001b[0m in \u001b[0;36m<module>\u001b[0;34m()\u001b[0m\n\u001b[1;32m      3\u001b[0m     \u001b[0mvariable\u001b[0m\u001b[0;34m=\u001b[0m\u001b[0;34m'maxave'\u001b[0m\u001b[0;34m,\u001b[0m\u001b[0;34m\u001b[0m\u001b[0m\n\u001b[1;32m      4\u001b[0m     \u001b[0myear\u001b[0m\u001b[0;34m=\u001b[0m\u001b[0;36m2010\u001b[0m\u001b[0;34m,\u001b[0m\u001b[0;34m\u001b[0m\u001b[0m\n\u001b[0;32m----> 5\u001b[0;31m     \u001b[0mmonth\u001b[0m\u001b[0;34m=\u001b[0m\u001b[0;36m1\u001b[0m\u001b[0;34m\u001b[0m\u001b[0m\n\u001b[0m\u001b[1;32m      6\u001b[0m )\n",
      "\u001b[0;32m/anaconda3/envs/week01/lib/python3.6/site-packages/bomber-0.0.5.dev2-py3.6.egg/bomber/measurements.py\u001b[0m in \u001b[0;36mget_measurements\u001b[0;34m(dataset, variable, timespan, year, month, filename)\u001b[0m\n\u001b[1;32m     50\u001b[0m \u001b[0;34m\u001b[0m\u001b[0m\n\u001b[1;32m     51\u001b[0m     \u001b[0;31m# Download and munge data\u001b[0m\u001b[0;34m\u001b[0m\u001b[0;34m\u001b[0m\u001b[0m\n\u001b[0;32m---> 52\u001b[0;31m     \u001b[0;32mreturn\u001b[0m \u001b[0mdownload\u001b[0m\u001b[0;34m(\u001b[0m\u001b[0mURI\u001b[0m\u001b[0;34m,\u001b[0m \u001b[0moptions\u001b[0m\u001b[0;34m,\u001b[0m \u001b[0mfilename\u001b[0m\u001b[0;34m)\u001b[0m\u001b[0;34m\u001b[0m\u001b[0m\n\u001b[0m",
      "\u001b[0;32m/anaconda3/envs/week01/lib/python3.6/site-packages/bomber-0.0.5.dev2-py3.6.egg/bomber/utilities.py\u001b[0m in \u001b[0;36mdownload\u001b[0;34m(uri, options, filename, fmt)\u001b[0m\n\u001b[1;32m     38\u001b[0m                 \u001b[0msubprocess\u001b[0m\u001b[0;34m.\u001b[0m\u001b[0mcall\u001b[0m\u001b[0;34m(\u001b[0m\u001b[0;34m[\u001b[0m\u001b[0;34m'uncompress'\u001b[0m\u001b[0;34m,\u001b[0m \u001b[0mzipfilename\u001b[0m\u001b[0;34m]\u001b[0m\u001b[0;34m)\u001b[0m\u001b[0;34m\u001b[0m\u001b[0m\n\u001b[1;32m     39\u001b[0m             \u001b[0;32melif\u001b[0m \u001b[0mplatform\u001b[0m \u001b[0;34m==\u001b[0m \u001b[0;34m\"darwin\"\u001b[0m\u001b[0;34m:\u001b[0m\u001b[0;34m\u001b[0m\u001b[0m\n\u001b[0;32m---> 40\u001b[0;31m                 \u001b[0msubprocess\u001b[0m\u001b[0;34m.\u001b[0m\u001b[0mcall\u001b[0m\u001b[0;34m(\u001b[0m\u001b[0;34m[\u001b[0m\u001b[0;34m'7za'\u001b[0m\u001b[0;34m,\u001b[0m \u001b[0;34m'x'\u001b[0m\u001b[0;34m,\u001b[0m \u001b[0mzipfilename\u001b[0m\u001b[0;34m]\u001b[0m\u001b[0;34m)\u001b[0m\u001b[0;34m\u001b[0m\u001b[0m\n\u001b[0m\u001b[1;32m     41\u001b[0m \u001b[0;34m\u001b[0m\u001b[0m\n\u001b[1;32m     42\u001b[0m         \u001b[0;31m# Convert data to geotiff\u001b[0m\u001b[0;34m\u001b[0m\u001b[0;34m\u001b[0m\u001b[0m\n",
      "\u001b[0;32m/anaconda3/envs/week01/lib/python3.6/subprocess.py\u001b[0m in \u001b[0;36mcall\u001b[0;34m(timeout, *popenargs, **kwargs)\u001b[0m\n\u001b[1;32m    265\u001b[0m     \u001b[0mretcode\u001b[0m \u001b[0;34m=\u001b[0m \u001b[0mcall\u001b[0m\u001b[0;34m(\u001b[0m\u001b[0;34m[\u001b[0m\u001b[0;34m\"ls\"\u001b[0m\u001b[0;34m,\u001b[0m \u001b[0;34m\"-l\"\u001b[0m\u001b[0;34m]\u001b[0m\u001b[0;34m)\u001b[0m\u001b[0;34m\u001b[0m\u001b[0m\n\u001b[1;32m    266\u001b[0m     \"\"\"\n\u001b[0;32m--> 267\u001b[0;31m     \u001b[0;32mwith\u001b[0m \u001b[0mPopen\u001b[0m\u001b[0;34m(\u001b[0m\u001b[0;34m*\u001b[0m\u001b[0mpopenargs\u001b[0m\u001b[0;34m,\u001b[0m \u001b[0;34m**\u001b[0m\u001b[0mkwargs\u001b[0m\u001b[0;34m)\u001b[0m \u001b[0;32mas\u001b[0m \u001b[0mp\u001b[0m\u001b[0;34m:\u001b[0m\u001b[0;34m\u001b[0m\u001b[0m\n\u001b[0m\u001b[1;32m    268\u001b[0m         \u001b[0;32mtry\u001b[0m\u001b[0;34m:\u001b[0m\u001b[0;34m\u001b[0m\u001b[0m\n\u001b[1;32m    269\u001b[0m             \u001b[0;32mreturn\u001b[0m \u001b[0mp\u001b[0m\u001b[0;34m.\u001b[0m\u001b[0mwait\u001b[0m\u001b[0;34m(\u001b[0m\u001b[0mtimeout\u001b[0m\u001b[0;34m=\u001b[0m\u001b[0mtimeout\u001b[0m\u001b[0;34m)\u001b[0m\u001b[0;34m\u001b[0m\u001b[0m\n",
      "\u001b[0;32m/anaconda3/envs/week01/lib/python3.6/subprocess.py\u001b[0m in \u001b[0;36m__init__\u001b[0;34m(self, args, bufsize, executable, stdin, stdout, stderr, preexec_fn, close_fds, shell, cwd, env, universal_newlines, startupinfo, creationflags, restore_signals, start_new_session, pass_fds, encoding, errors)\u001b[0m\n\u001b[1;32m    707\u001b[0m                                 \u001b[0mc2pread\u001b[0m\u001b[0;34m,\u001b[0m \u001b[0mc2pwrite\u001b[0m\u001b[0;34m,\u001b[0m\u001b[0;34m\u001b[0m\u001b[0m\n\u001b[1;32m    708\u001b[0m                                 \u001b[0merrread\u001b[0m\u001b[0;34m,\u001b[0m \u001b[0merrwrite\u001b[0m\u001b[0;34m,\u001b[0m\u001b[0;34m\u001b[0m\u001b[0m\n\u001b[0;32m--> 709\u001b[0;31m                                 restore_signals, start_new_session)\n\u001b[0m\u001b[1;32m    710\u001b[0m         \u001b[0;32mexcept\u001b[0m\u001b[0;34m:\u001b[0m\u001b[0;34m\u001b[0m\u001b[0m\n\u001b[1;32m    711\u001b[0m             \u001b[0;31m# Cleanup if the child failed starting.\u001b[0m\u001b[0;34m\u001b[0m\u001b[0;34m\u001b[0m\u001b[0m\n",
      "\u001b[0;32m/anaconda3/envs/week01/lib/python3.6/subprocess.py\u001b[0m in \u001b[0;36m_execute_child\u001b[0;34m(self, args, executable, preexec_fn, close_fds, pass_fds, cwd, env, startupinfo, creationflags, shell, p2cread, p2cwrite, c2pread, c2pwrite, errread, errwrite, restore_signals, start_new_session)\u001b[0m\n\u001b[1;32m   1342\u001b[0m                         \u001b[0;32mif\u001b[0m \u001b[0merrno_num\u001b[0m \u001b[0;34m==\u001b[0m \u001b[0merrno\u001b[0m\u001b[0;34m.\u001b[0m\u001b[0mENOENT\u001b[0m\u001b[0;34m:\u001b[0m\u001b[0;34m\u001b[0m\u001b[0m\n\u001b[1;32m   1343\u001b[0m                             \u001b[0merr_msg\u001b[0m \u001b[0;34m+=\u001b[0m \u001b[0;34m': '\u001b[0m \u001b[0;34m+\u001b[0m \u001b[0mrepr\u001b[0m\u001b[0;34m(\u001b[0m\u001b[0merr_filename\u001b[0m\u001b[0;34m)\u001b[0m\u001b[0;34m\u001b[0m\u001b[0m\n\u001b[0;32m-> 1344\u001b[0;31m                     \u001b[0;32mraise\u001b[0m \u001b[0mchild_exception_type\u001b[0m\u001b[0;34m(\u001b[0m\u001b[0merrno_num\u001b[0m\u001b[0;34m,\u001b[0m \u001b[0merr_msg\u001b[0m\u001b[0;34m,\u001b[0m \u001b[0merr_filename\u001b[0m\u001b[0;34m)\u001b[0m\u001b[0;34m\u001b[0m\u001b[0m\n\u001b[0m\u001b[1;32m   1345\u001b[0m                 \u001b[0;32mraise\u001b[0m \u001b[0mchild_exception_type\u001b[0m\u001b[0;34m(\u001b[0m\u001b[0merr_msg\u001b[0m\u001b[0;34m)\u001b[0m\u001b[0;34m\u001b[0m\u001b[0m\n\u001b[1;32m   1346\u001b[0m \u001b[0;34m\u001b[0m\u001b[0m\n",
      "\u001b[0;31mFileNotFoundError\u001b[0m: [Errno 2] No such file or directory: '7za': '7za'"
     ]
    }
   ],
   "source": [
    "bomber.get_measurements(\n",
    "    dataset='temperature', \n",
    "    variable='maxave',\n",
    "    year=2010,\n",
    "    month=1\n",
    ")"
   ]
  },
  {
   "cell_type": "code",
   "execution_count": null,
   "metadata": {},
   "outputs": [],
   "source": [
    "bomber.grid_to_geotiff"
   ]
  },
  {
   "cell_type": "code",
   "execution_count": null,
   "metadata": {},
   "outputs": [],
   "source": []
  }
 ],
 "metadata": {
  "kernelspec": {
   "display_name": "Python 3",
   "language": "python",
   "name": "python3"
  },
  "language_info": {
   "codemirror_mode": {
    "name": "ipython",
    "version": 3
   },
   "file_extension": ".py",
   "mimetype": "text/x-python",
   "name": "python",
   "nbconvert_exporter": "python",
   "pygments_lexer": "ipython3",
   "version": "3.6.6"
  }
 },
 "nbformat": 4,
 "nbformat_minor": 2
}
