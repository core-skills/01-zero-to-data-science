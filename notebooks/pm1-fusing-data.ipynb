{
 "cells": [
  {
   "cell_type": "markdown",
   "metadata": {},
   "source": [
    "## Predicting failures from age and temperature data\n",
    "\n",
    "Let's suppose that our hypothesis is that the failure rate is tied to the age of the pipes (as given by the install year) and the temperature in some way.\n",
    "\n",
    "We're going to struggle to analyse the full dataset easily so we're going to bin things up a bit to make the datasets smaller. Hopefully there's still an interesting signal!\n",
    "\n",
    "The first thing we'll do is aggregate suburb names up to postcode level. Then we'll use Australia Post postcode data to generate latitudes and longitudes. Then we'll use `bomber` - a library I wrote to download monthly temperature maximums and extract the temperatures for each postcode for each month from 2010 to 2016.\n",
    "\n",
    "Finally we'll join the postcode level temperature and age info back onto our failure data to look at whether there's something useful to predict.\n",
    "\n",
    "### Reading in age data\n",
    "\n",
    "First we're going to look at the pipe age data from ATCO. This one is much tidier than the faults data."
   ]
  },
  {
   "cell_type": "code",
   "execution_count": 5,
   "metadata": {},
   "outputs": [
    {
     "data": {
      "text/plain": [
       "'/Users/jess/Documents/Core - Data Science Workshop/repositories/01-zero-to-data-science/data'"
      ]
     },
     "execution_count": 5,
     "metadata": {},
     "output_type": "execute_result"
    }
   ],
   "source": [
    "import pandas as pd\n",
    "import seaborn\n",
    "import numpy as np\n",
    "from os import path\n",
    "\n",
    "seaborn.set()\n",
    "\n",
    "# Setting where our data is sitting\n",
    "data_folder = path.join(\n",
    "    path.abspath('..'),  # '..' means the directory above this one\n",
    "    'data')\n",
    "data_folder"
   ]
  },
  {
   "cell_type": "code",
   "execution_count": 6,
   "metadata": {},
   "outputs": [
    {
     "data": {
      "text/plain": [
       "['Earliest Mains by Suburbs',\n",
       " 'ArcFM Data',\n",
       " 'Filtered Fields',\n",
       " 'Pivot',\n",
       " 'Suburb_Age_Length_Material',\n",
       " 'HP Age Profile',\n",
       " 'Age Profile Chart',\n",
       " 'Mean PVC Age Profile']"
      ]
     },
     "execution_count": 6,
     "metadata": {},
     "output_type": "execute_result"
    }
   ],
   "source": [
    "age_file = path.join(data_folder, 'Mains_Age_Profile_Estimation 250516.xlsm')\n",
    "age_xl = pd.ExcelFile(age_file)\n",
    "age_xl.sheet_names"
   ]
  },
  {
   "cell_type": "markdown",
   "metadata": {},
   "source": [
    "Next we can parse the data"
   ]
  },
  {
   "cell_type": "code",
   "execution_count": 7,
   "metadata": {},
   "outputs": [
    {
     "data": {
      "text/plain": [
       "count    559101.000000\n",
       "mean       1996.216068\n",
       "std           6.155449\n",
       "min        1900.000000\n",
       "25%        1992.000000\n",
       "50%        1993.000000\n",
       "75%        1998.000000\n",
       "max        2018.000000\n",
       "Name: year, dtype: float64"
      ]
     },
     "execution_count": 7,
     "metadata": {},
     "output_type": "execute_result"
    }
   ],
   "source": [
    "age_data = age_xl.parse('ArcFM Data')\n",
    "\n",
    "# rename columns so we aren't yelling all the time\n",
    "new_names = {\n",
    "    'INSTALLATI': 'installation',\n",
    "    'Year': 'year',\n",
    "    'NOMINALDIA': 'nominal_diameter',\n",
    "    'ACTUALINTE': 'actual_interior_diameter',\n",
    "    'MATERIAL': 'material',\n",
    "    'MEASUREDLE': 'measured_length',\n",
    "    'MOAP': 'moap',\n",
    "    'GAS_TYPE': 'gas_type',\n",
    "    'DIST_LEVEL': 'dist_level',\n",
    "    'MATERIAL_T': 'material_type',\n",
    "    'PIPE_NAME': 'pipe_name',\n",
    "    'SUBURB': 'suburb',\n",
    "    'POSTCODE': 'postcode',\n",
    "    'SHAPE_LEN': 'mapped_length'\n",
    "}\n",
    "age_data.rename(columns=new_names, inplace=True)\n",
    "\n",
    "# there are some strange numbers in the age data - we just clip these to 2018\n",
    "age_data.year = np.clip(age_data.year, age_data.year.min(), 2018)\n",
    "\n",
    "# Let's see what we've got\n",
    "age_data.year.describe()"
   ]
  },
  {
   "cell_type": "markdown",
   "metadata": {},
   "source": [
    "The next step is to generate quantiles for age for each postcode. We do this by iterating over the records and generating the quantiles row by row (there's probably better ways to do this but we're running towards getting something up at the moment)"
   ]
  },
  {
   "cell_type": "code",
   "execution_count": 8,
   "metadata": {},
   "outputs": [
    {
     "data": {
      "text/html": [
       "<div>\n",
       "<style scoped>\n",
       "    .dataframe tbody tr th:only-of-type {\n",
       "        vertical-align: middle;\n",
       "    }\n",
       "\n",
       "    .dataframe tbody tr th {\n",
       "        vertical-align: top;\n",
       "    }\n",
       "\n",
       "    .dataframe thead th {\n",
       "        text-align: right;\n",
       "    }\n",
       "</style>\n",
       "<table border=\"1\" class=\"dataframe\">\n",
       "  <thead>\n",
       "    <tr style=\"text-align: right;\">\n",
       "      <th></th>\n",
       "      <th>q0</th>\n",
       "      <th>q25</th>\n",
       "      <th>q50</th>\n",
       "      <th>q75</th>\n",
       "      <th>q100</th>\n",
       "    </tr>\n",
       "    <tr>\n",
       "      <th>postcode</th>\n",
       "      <th></th>\n",
       "      <th></th>\n",
       "      <th></th>\n",
       "      <th></th>\n",
       "      <th></th>\n",
       "    </tr>\n",
       "  </thead>\n",
       "  <tbody>\n",
       "    <tr>\n",
       "      <th>0</th>\n",
       "      <td>1991.0</td>\n",
       "      <td>1991.0</td>\n",
       "      <td>1993.0</td>\n",
       "      <td>1993.0</td>\n",
       "      <td>2012.0</td>\n",
       "    </tr>\n",
       "    <tr>\n",
       "      <th>6000</th>\n",
       "      <td>1991.0</td>\n",
       "      <td>1993.0</td>\n",
       "      <td>1993.0</td>\n",
       "      <td>1994.0</td>\n",
       "      <td>2013.0</td>\n",
       "    </tr>\n",
       "    <tr>\n",
       "      <th>6003</th>\n",
       "      <td>1993.0</td>\n",
       "      <td>1993.0</td>\n",
       "      <td>1994.0</td>\n",
       "      <td>1995.0</td>\n",
       "      <td>2011.0</td>\n",
       "    </tr>\n",
       "    <tr>\n",
       "      <th>6004</th>\n",
       "      <td>1986.0</td>\n",
       "      <td>1993.0</td>\n",
       "      <td>1993.0</td>\n",
       "      <td>1995.0</td>\n",
       "      <td>2018.0</td>\n",
       "    </tr>\n",
       "    <tr>\n",
       "      <th>6005</th>\n",
       "      <td>1993.0</td>\n",
       "      <td>1994.0</td>\n",
       "      <td>1994.0</td>\n",
       "      <td>1998.0</td>\n",
       "      <td>2013.0</td>\n",
       "    </tr>\n",
       "  </tbody>\n",
       "</table>\n",
       "</div>"
      ],
      "text/plain": [
       "              q0     q25     q50     q75    q100\n",
       "postcode                                        \n",
       "0         1991.0  1991.0  1993.0  1993.0  2012.0\n",
       "6000      1991.0  1993.0  1993.0  1994.0  2013.0\n",
       "6003      1993.0  1993.0  1994.0  1995.0  2011.0\n",
       "6004      1986.0  1993.0  1993.0  1995.0  2018.0\n",
       "6005      1993.0  1994.0  1994.0  1998.0  2013.0"
      ]
     },
     "execution_count": 8,
     "metadata": {},
     "output_type": "execute_result"
    }
   ],
   "source": [
    "features = pd.DataFrame.from_records([\n",
    "        (postcode, df.year.min(), df.year.quantile(0.25), df.year.median(), \n",
    "                    df.year.quantile(0.75), df.year.max())\n",
    "        for postcode, df in age_data.groupby('postcode')\n",
    "    ], \n",
    "    columns=('postcode', 'q0', 'q25', 'q50', 'q75', 'q100'),\n",
    "    index='postcode'\n",
    ")\n",
    "\n",
    "features.head()"
   ]
  },
  {
   "cell_type": "markdown",
   "metadata": {},
   "source": [
    "Now we can take the postcode data and use this to extract a latitude and longitude for each postcode. We're using an inner join on the postcode indices to only get the values we care about"
   ]
  },
  {
   "cell_type": "code",
   "execution_count": 9,
   "metadata": {},
   "outputs": [],
   "source": [
    "raw_postcodes = pd.read_csv(path.join(data_folder, 'australian_postcodes.csv'))\n",
    "\n",
    "# We have to remove duplicate records (there's one for each suburb) so we aggregate them up\n",
    "postcodes = pd.DataFrame.from_records([\n",
    "        (postcode, df.long.mean(), df.lat.mean(), ', '.join(df.locality))\n",
    "        for postcode, df in raw_postcodes.dropna(how='any').groupby('postcode')\n",
    "    ],\n",
    "    columns=('postcode', 'longitude', 'latitude', 'locality'),\n",
    "    index='postcode'\n",
    ")"
   ]
  },
  {
   "cell_type": "markdown",
   "metadata": {},
   "source": [
    "Now we can join the two tables together to get one table with all the relevant information"
   ]
  },
  {
   "cell_type": "code",
   "execution_count": 10,
   "metadata": {},
   "outputs": [],
   "source": [
    "features = features.join(postcodes, how='inner')"
   ]
  },
  {
   "cell_type": "markdown",
   "metadata": {},
   "source": [
    "and we can see the spread of postcodes around Perth with a quick scatter plot"
   ]
  },
  {
   "cell_type": "code",
   "execution_count": 11,
   "metadata": {},
   "outputs": [
    {
     "data": {
      "image/png": "[encoded data removed]",
      "text/plain": [
       "<Figure size 432x288 with 1 Axes>"
      ]
     },
     "metadata": {},
     "output_type": "display_data"
    }
   ],
   "source": [
    "ax = features.plot('longitude', 'latitude', kind='scatter')\n",
    "ax.set_xlim(115, 117)\n",
    "ax.set_ylim(-34, -31)\n",
    "ax.set_aspect(1)"
   ]
  },
  {
   "cell_type": "markdown",
   "metadata": {},
   "source": [
    "### Downloading temperature data\n",
    "\n",
    "We're going to use bomber to do the download"
   ]
  },
  {
   "cell_type": "code",
   "execution_count": 13,
   "metadata": {},
   "outputs": [
    {
     "data": {
      "text/plain": [
       "{'temperature': ['maxave', 'minave'],\n",
       " 'rainfall': ['totals'],\n",
       " 'vprp': ['vprp09', 'vprp15'],\n",
       " 'solar': ['solarave'],\n",
       " 'ndvi': ['ndviave']}"
      ]
     },
     "execution_count": 13,
     "metadata": {},
     "output_type": "execute_result"
    }
   ],
   "source": [
    "import bomber\n",
    "\n",
    "bomber.measurements.DATASETS"
   ]
  },
  {
   "cell_type": "code",
   "execution_count": 14,
   "metadata": {},
   "outputs": [
    {
     "ename": "FileNotFoundError",
     "evalue": "[Errno 2] No such file or directory: 'temperature_maxave_month_2010010120100131'",
     "output_type": "error",
     "traceback": [
      "\u001b[0;31m---------------------------------------------------------------------------\u001b[0m",
      "\u001b[0;31mFileNotFoundError\u001b[0m                         Traceback (most recent call last)",
      "\u001b[0;32m<ipython-input-14-3bb3b8aa747a>\u001b[0m in \u001b[0;36m<module>\u001b[0;34m()\u001b[0m\n\u001b[1;32m      3\u001b[0m     \u001b[0mvariable\u001b[0m\u001b[0;34m=\u001b[0m\u001b[0;34m'maxave'\u001b[0m\u001b[0;34m,\u001b[0m\u001b[0;34m\u001b[0m\u001b[0m\n\u001b[1;32m      4\u001b[0m     \u001b[0myear\u001b[0m\u001b[0;34m=\u001b[0m\u001b[0;36m2010\u001b[0m\u001b[0;34m,\u001b[0m\u001b[0;34m\u001b[0m\u001b[0m\n\u001b[0;32m----> 5\u001b[0;31m     \u001b[0mmonth\u001b[0m\u001b[0;34m=\u001b[0m\u001b[0;36m1\u001b[0m\u001b[0;34m\u001b[0m\u001b[0m\n\u001b[0m\u001b[1;32m      6\u001b[0m )\n",
      "\u001b[0;32m/anaconda3/envs/week01/lib/python3.6/site-packages/bomber/measurements.py\u001b[0m in \u001b[0;36mget_measurements\u001b[0;34m(dataset, variable, timespan, year, month, filename)\u001b[0m\n\u001b[1;32m     50\u001b[0m \u001b[0;34m\u001b[0m\u001b[0m\n\u001b[1;32m     51\u001b[0m     \u001b[0;31m# Download and munge data\u001b[0m\u001b[0;34m\u001b[0m\u001b[0;34m\u001b[0m\u001b[0m\n\u001b[0;32m---> 52\u001b[0;31m     \u001b[0;32mreturn\u001b[0m \u001b[0mdownload\u001b[0m\u001b[0;34m(\u001b[0m\u001b[0mURI\u001b[0m\u001b[0;34m,\u001b[0m \u001b[0moptions\u001b[0m\u001b[0;34m,\u001b[0m \u001b[0mfilename\u001b[0m\u001b[0;34m)\u001b[0m\u001b[0;34m\u001b[0m\u001b[0m\n\u001b[0m",
      "\u001b[0;32m/anaconda3/envs/week01/lib/python3.6/site-packages/bomber/utilities.py\u001b[0m in \u001b[0;36mdownload\u001b[0;34m(uri, options, filename, fmt)\u001b[0m\n\u001b[1;32m     27\u001b[0m         \u001b[0;31m# Convert data to geotiff\u001b[0m\u001b[0;34m\u001b[0m\u001b[0;34m\u001b[0m\u001b[0m\n\u001b[1;32m     28\u001b[0m         \u001b[0;32mif\u001b[0m \u001b[0mfmt\u001b[0m\u001b[0;34m.\u001b[0m\u001b[0mlower\u001b[0m\u001b[0;34m(\u001b[0m\u001b[0;34m)\u001b[0m \u001b[0;34m==\u001b[0m \u001b[0;34m'geotiff'\u001b[0m\u001b[0;34m:\u001b[0m\u001b[0;34m\u001b[0m\u001b[0m\n\u001b[0;32m---> 29\u001b[0;31m             \u001b[0mfilename\u001b[0m \u001b[0;34m=\u001b[0m \u001b[0mgrid_to_geotiff\u001b[0m\u001b[0;34m(\u001b[0m\u001b[0mfilename\u001b[0m\u001b[0;34m)\u001b[0m\u001b[0;34m\u001b[0m\u001b[0m\n\u001b[0m\u001b[1;32m     30\u001b[0m         \u001b[0mprint\u001b[0m\u001b[0;34m(\u001b[0m\u001b[0;34m'Downloaded data to {0}'\u001b[0m\u001b[0;34m.\u001b[0m\u001b[0mformat\u001b[0m\u001b[0;34m(\u001b[0m\u001b[0mfilename\u001b[0m\u001b[0;34m)\u001b[0m\u001b[0;34m)\u001b[0m\u001b[0;34m\u001b[0m\u001b[0m\n\u001b[1;32m     31\u001b[0m         \u001b[0;32mreturn\u001b[0m \u001b[0mfilename\u001b[0m\u001b[0;34m\u001b[0m\u001b[0m\n",
      "\u001b[0;32m/anaconda3/envs/week01/lib/python3.6/site-packages/bomber/converters.py\u001b[0m in \u001b[0;36mgrid_to_geotiff\u001b[0;34m(filename, return_data)\u001b[0m\n\u001b[1;32m     25\u001b[0m     \u001b[0;31m# First six lines are metadata\u001b[0m\u001b[0;34m\u001b[0m\u001b[0;34m\u001b[0m\u001b[0m\n\u001b[1;32m     26\u001b[0m     \u001b[0;31m# Note: gonna assume the origin is WGS84\u001b[0m\u001b[0;34m\u001b[0m\u001b[0;34m\u001b[0m\u001b[0m\n\u001b[0;32m---> 27\u001b[0;31m     \u001b[0;32mwith\u001b[0m \u001b[0mopen\u001b[0m\u001b[0;34m(\u001b[0m\u001b[0mfilename\u001b[0m\u001b[0;34m)\u001b[0m \u001b[0;32mas\u001b[0m \u001b[0mfhandle\u001b[0m\u001b[0;34m:\u001b[0m\u001b[0;34m\u001b[0m\u001b[0m\n\u001b[0m\u001b[1;32m     28\u001b[0m         \u001b[0mmeta\u001b[0m \u001b[0;34m=\u001b[0m \u001b[0;34m{\u001b[0m\u001b[0;34m}\u001b[0m\u001b[0;34m\u001b[0m\u001b[0m\n\u001b[1;32m     29\u001b[0m         \u001b[0;32mfor\u001b[0m \u001b[0mline\u001b[0m \u001b[0;32min\u001b[0m \u001b[0mfhandle\u001b[0m\u001b[0;34m:\u001b[0m\u001b[0;34m\u001b[0m\u001b[0m\n",
      "\u001b[0;31mFileNotFoundError\u001b[0m: [Errno 2] No such file or directory: 'temperature_maxave_month_2010010120100131'"
     ]
    }
   ],
   "source": [
    "bomber.get_measurements(\n",
    "    dataset='temperature', \n",
    "    variable='maxave',\n",
    "    year=2010,\n",
    "    month=1\n",
    ")"
   ]
  },
  {
   "cell_type": "code",
   "execution_count": null,
   "metadata": {},
   "outputs": [],
   "source": [
    "bomber.grid_to_geotiff"
   ]
  }
 ],
 "metadata": {
  "kernelspec": {
   "display_name": "Python 3",
   "language": "python",
   "name": "python3"
  },
  "language_info": {
   "codemirror_mode": {
    "name": "ipython",
    "version": 3
   },
   "file_extension": ".py",
   "mimetype": "text/x-python",
   "name": "python",
   "nbconvert_exporter": "python",
   "pygments_lexer": "ipython3",
   "version": "3.6.6"
  }
 },
 "nbformat": 4,
 "nbformat_minor": 2
}
