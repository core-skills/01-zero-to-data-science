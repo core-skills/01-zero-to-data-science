{
 "cells": [
  {
   "cell_type": "markdown",
   "metadata": {},
   "source": [
    "## Fit a linear model to some random numbers\n",
    "\n",
    "This is nice and simple but makes sure that everything is running ok on your machine! Run all the cells and make sure you don't get any errors.\n",
    "\n",
    "> This is the notebook for the first morning session. I'm using a `{am|pm}{1|2}-name-with-stuff.ipynb` naming scheme to make it easy for people to know what to look for where."
   ]
  },
  {
   "cell_type": "code",
   "execution_count": 265,
   "metadata": {},
   "outputs": [],
   "source": [
    "import numpy as np\n",
    "import matplotlib.pyplot as plt\n",
    "import seaborn\n",
    "import pandas as pd\n",
    "import statsmodels.api as sm\n",
    "import statsmodels.formula.api as smf\n",
    "\n",
    "seaborn.set()\n",
    "colors = seaborn.palettes.get_color_cycle()"
   ]
  },
  {
   "cell_type": "markdown",
   "metadata": {},
   "source": [
    "Make some data"
   ]
  },
  {
   "cell_type": "code",
   "execution_count": 273,
   "metadata": {},
   "outputs": [],
   "source": [
    "# Parameters\n",
    "alpha, beta, gamma = -0.3, 1.3, 1\n",
    "epsilon = 0.8\n",
    "npoints = 30\n",
    "\n",
    "# Functions\n",
    "sinc = lambda x: np.sin(np.pi * x) / x\n",
    "actual = lambda x: alpha + beta * sinc(x) + gamma * x"
   ]
  },
  {
   "cell_type": "code",
   "execution_count": 274,
   "metadata": {},
   "outputs": [],
   "source": [
    "# Generate data\n",
    "df = pd.DataFrame()\n",
    "df['x'] = np.random.uniform(0, 5, size=npoints)\n",
    "noise = np.random.normal(loc=0, scale=epsilon, size=npoints)\n",
    "df['y'] = alpha + beta * sinc(df.x) + gamma * df.x + noise"
   ]
  },
  {
   "cell_type": "markdown",
   "metadata": {},
   "source": [
    "Plot the data"
   ]
  },
  {
   "cell_type": "code",
   "execution_count": 275,
   "metadata": {},
   "outputs": [
    {
     "data": {
      "text/plain": [
       "<matplotlib.legend.Legend at 0x1c262c3978>"
      ]
     },
     "execution_count": 275,
     "metadata": {},
     "output_type": "execute_result"
    },
    {
     "data": {
      "image/png": "[encoded data removed]",
      "text/plain": [
       "<Figure size 432x288 with 1 Axes>"
      ]
     },
     "metadata": {},
     "output_type": "display_data"
    }
   ],
   "source": [
    "ax = plt.gca()\n",
    "xs = np.linspace(0.01, 5)\n",
    "ax.plot(xs, actual(xs), 'k--', alpha=0.5, label='actual')\n",
    "ax.plot(df.x, df.y, '.', label='samples')\n",
    "ax.legend()"
   ]
  },
  {
   "cell_type": "markdown",
   "metadata": {},
   "source": [
    "Fit a regression using ordinary least squares and an 'R-style' function"
   ]
  },
  {
   "cell_type": "code",
   "execution_count": 276,
   "metadata": {},
   "outputs": [
    {
     "data": {
      "text/html": [
       "<table class=\"simpletable\">\n",
       "<caption>OLS Regression Results</caption>\n",
       "<tr>\n",
       "  <th>Dep. Variable:</th>            <td>y</td>        <th>  R-squared:         </th> <td>   0.800</td>\n",
       "</tr>\n",
       "<tr>\n",
       "  <th>Model:</th>                   <td>OLS</td>       <th>  Adj. R-squared:    </th> <td>   0.785</td>\n",
       "</tr>\n",
       "<tr>\n",
       "  <th>Method:</th>             <td>Least Squares</td>  <th>  F-statistic:       </th> <td>   53.84</td>\n",
       "</tr>\n",
       "<tr>\n",
       "  <th>Date:</th>             <td>Mon, 17 Sep 2018</td> <th>  Prob (F-statistic):</th> <td>3.78e-10</td>\n",
       "</tr>\n",
       "<tr>\n",
       "  <th>Time:</th>                 <td>14:14:00</td>     <th>  Log-Likelihood:    </th> <td> -33.602</td>\n",
       "</tr>\n",
       "<tr>\n",
       "  <th>No. Observations:</th>      <td>    30</td>      <th>  AIC:               </th> <td>   73.20</td>\n",
       "</tr>\n",
       "<tr>\n",
       "  <th>Df Residuals:</th>          <td>    27</td>      <th>  BIC:               </th> <td>   77.41</td>\n",
       "</tr>\n",
       "<tr>\n",
       "  <th>Df Model:</th>              <td>     2</td>      <th>                     </th>     <td> </td>   \n",
       "</tr>\n",
       "<tr>\n",
       "  <th>Covariance Type:</th>      <td>nonrobust</td>    <th>                     </th>     <td> </td>   \n",
       "</tr>\n",
       "</table>\n",
       "<table class=\"simpletable\">\n",
       "<tr>\n",
       "      <td></td>         <th>coef</th>     <th>std err</th>      <th>t</th>      <th>P>|t|</th>  <th>[0.025</th>    <th>0.975]</th>  \n",
       "</tr>\n",
       "<tr>\n",
       "  <th>Intercept</th> <td>   -0.7888</td> <td>    0.370</td> <td>   -2.131</td> <td> 0.042</td> <td>   -1.548</td> <td>   -0.029</td>\n",
       "</tr>\n",
       "<tr>\n",
       "  <th>sinc(x)</th>   <td>    1.5299</td> <td>    0.171</td> <td>    8.967</td> <td> 0.000</td> <td>    1.180</td> <td>    1.880</td>\n",
       "</tr>\n",
       "<tr>\n",
       "  <th>x</th>         <td>    1.1420</td> <td>    0.121</td> <td>    9.449</td> <td> 0.000</td> <td>    0.894</td> <td>    1.390</td>\n",
       "</tr>\n",
       "</table>\n",
       "<table class=\"simpletable\">\n",
       "<tr>\n",
       "  <th>Omnibus:</th>       <td> 1.782</td> <th>  Durbin-Watson:     </th> <td>   1.798</td>\n",
       "</tr>\n",
       "<tr>\n",
       "  <th>Prob(Omnibus):</th> <td> 0.410</td> <th>  Jarque-Bera (JB):  </th> <td>   1.156</td>\n",
       "</tr>\n",
       "<tr>\n",
       "  <th>Skew:</th>          <td>-0.481</td> <th>  Prob(JB):          </th> <td>   0.561</td>\n",
       "</tr>\n",
       "<tr>\n",
       "  <th>Kurtosis:</th>      <td> 3.016</td> <th>  Cond. No.          </th> <td>    8.45</td>\n",
       "</tr>\n",
       "</table><br/><br/>Warnings:<br/>[1] Standard Errors assume that the covariance matrix of the errors is correctly specified."
      ],
      "text/plain": [
       "<class 'statsmodels.iolib.summary.Summary'>\n",
       "\"\"\"\n",
       "                            OLS Regression Results                            \n",
       "==============================================================================\n",
       "Dep. Variable:                      y   R-squared:                       0.800\n",
       "Model:                            OLS   Adj. R-squared:                  0.785\n",
       "Method:                 Least Squares   F-statistic:                     53.84\n",
       "Date:                Mon, 17 Sep 2018   Prob (F-statistic):           3.78e-10\n",
       "Time:                        14:14:00   Log-Likelihood:                -33.602\n",
       "No. Observations:                  30   AIC:                             73.20\n",
       "Df Residuals:                      27   BIC:                             77.41\n",
       "Df Model:                           2                                         \n",
       "Covariance Type:            nonrobust                                         \n",
       "==============================================================================\n",
       "                 coef    std err          t      P>|t|      [0.025      0.975]\n",
       "------------------------------------------------------------------------------\n",
       "Intercept     -0.7888      0.370     -2.131      0.042      -1.548      -0.029\n",
       "sinc(x)        1.5299      0.171      8.967      0.000       1.180       1.880\n",
       "x              1.1420      0.121      9.449      0.000       0.894       1.390\n",
       "==============================================================================\n",
       "Omnibus:                        1.782   Durbin-Watson:                   1.798\n",
       "Prob(Omnibus):                  0.410   Jarque-Bera (JB):                1.156\n",
       "Skew:                          -0.481   Prob(JB):                        0.561\n",
       "Kurtosis:                       3.016   Cond. No.                         8.45\n",
       "==============================================================================\n",
       "\n",
       "Warnings:\n",
       "[1] Standard Errors assume that the covariance matrix of the errors is correctly specified.\n",
       "\"\"\""
      ]
     },
     "execution_count": 276,
     "metadata": {},
     "output_type": "execute_result"
    }
   ],
   "source": [
    "model = smf.ols('y ~ sinc(x) + x', data=df)\n",
    "results = model.fit()\n",
    "results.summary()"
   ]
  },
  {
   "cell_type": "markdown",
   "metadata": {},
   "source": [
    "Plot the regression using seaborn"
   ]
  },
  {
   "cell_type": "code",
   "execution_count": 277,
   "metadata": {},
   "outputs": [],
   "source": [
    "pred = lambda p, x: \\\n",
    "    p['Intercept'] + p['sinc(x)'] * sinc(x) + \\\n",
    "    p['x'] * x\n",
    "xpred = np.linspace(0.01, 5)\n",
    "ypred = pred(results.params, xpred)\n",
    "yactual = actual(xpred)"
   ]
  },
  {
   "cell_type": "code",
   "execution_count": 278,
   "metadata": {},
   "outputs": [
    {
     "data": {
      "text/plain": [
       "<matplotlib.legend.Legend at 0x1c260cea20>"
      ]
     },
     "execution_count": 278,
     "metadata": {},
     "output_type": "execute_result"
    },
    {
     "data": {
      "image/png": "[encoded data removed]",
      "text/plain": [
       "<Figure size 432x288 with 1 Axes>"
      ]
     },
     "metadata": {},
     "output_type": "display_data"
    }
   ],
   "source": [
    "ax = df.plot('x', 'y', kind='scatter')\n",
    "ax.plot(xpred, ypred, alpha=0.5, label='fit')\n",
    "ax.plot(xpred, yactual, 'k--', alpha=0.5, label='actual')\n",
    "ax.legend()"
   ]
  },
  {
   "cell_type": "markdown",
   "metadata": {},
   "source": [
    "Check for uncorrelated errors"
   ]
  },
  {
   "cell_type": "code",
   "execution_count": 279,
   "metadata": {},
   "outputs": [
    {
     "data": {
      "image/png": "[encoded data removed]",
      "text/plain": [
       "<Figure size 432x432 with 1 Axes>"
      ]
     },
     "metadata": {},
     "output_type": "display_data"
    }
   ],
   "source": [
    "fig = sm.qqplot(pred(results.params, df.x) - df.y, \n",
    "          fit=True, color=colors[0], label='Q:Q samples')\n",
    "ax = plt.gca()\n",
    "ax.plot((-2, 2), (-2, 2), 'k--', alpha=0.5, label='1:1 line')\n",
    "ax.set_aspect(1)\n",
    "ax.legend()\n",
    "fig.set_size_inches(6, 6)"
   ]
  },
  {
   "cell_type": "code",
   "execution_count": null,
   "metadata": {},
   "outputs": [],
   "source": []
  }
 ],
 "metadata": {
  "kernelspec": {
   "display_name": "Python 3",
   "language": "python",
   "name": "python3"
  },
  "language_info": {
   "codemirror_mode": {
    "name": "ipython",
    "version": 3
   },
   "file_extension": ".py",
   "mimetype": "text/x-python",
   "name": "python",
   "nbconvert_exporter": "python",
   "pygments_lexer": "ipython3",
   "version": "3.6.5"
  }
 },
 "nbformat": 4,
 "nbformat_minor": 2
}
