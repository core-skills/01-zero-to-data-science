{
 "cells": [
  {
   "cell_type": "markdown",
   "metadata": {},
   "source": [
    "## ATCO inspection data\n",
    "\n",
    "We've been given some excel spreadsheets from ATCO which have information about their pipeline failures and updates. Let's take a dig into this data and see what we can pull out...\n",
    "\n",
    "### Tidy data\n",
    "\n",
    "Before we can really do anyhing useful we need to load up the data. We've put all the data for this into the data directory - let's take a look at the files we've got "
   ]
  },
  {
   "cell_type": "code",
   "execution_count": 1,
   "metadata": {},
   "outputs": [
    {
     "data": {
      "text/plain": [
       "'/Users/jess/Documents/Core - Data Science Workshop/repositories/01-zero-to-data-science/notebooks'"
      ]
     },
     "execution_count": 1,
     "metadata": {},
     "output_type": "execute_result"
    }
   ],
   "source": [
    "import os            # library for interacting with your system\n",
    "from os import path  # module for manipulating paths\n",
    "\n",
    "# Let's find out where we're execting this at the moment\n",
    "os.getcwd()"
   ]
  },
  {
   "cell_type": "markdown",
   "metadata": {},
   "source": [
    "Our data are in the data folder one directory above the notebook directory."
   ]
  },
  {
   "cell_type": "code",
   "execution_count": 2,
   "metadata": {},
   "outputs": [
    {
     "data": {
      "text/plain": [
       "'/Users/jess/Documents/Core - Data Science Workshop/repositories/01-zero-to-data-science/data'"
      ]
     },
     "execution_count": 2,
     "metadata": {},
     "output_type": "execute_result"
    }
   ],
   "source": [
    "data_folder = path.join(\n",
    "    path.abspath('..'),  # '..' means the directory above this one\n",
    "    'data')\n",
    "data_folder"
   ]
  },
  {
   "cell_type": "code",
   "execution_count": 3,
   "metadata": {},
   "outputs": [
    {
     "data": {
      "text/plain": [
       "['.DS_Store',\n",
       " '~$Mains_Age_Profile_Estimation 250516.xlsm',\n",
       " 'Mains Faults Data_SAP_2010-2016.xlsx',\n",
       " 'faults_data_2010_2016.feather',\n",
       " '~$Mains Faults Data_SAP_2010-2016.xlsx',\n",
       " 'Mains_Age_Profile_Estimation 250516.xlsm']"
      ]
     },
     "execution_count": 3,
     "metadata": {},
     "output_type": "execute_result"
    }
   ],
   "source": [
    "os.listdir(data_folder)"
   ]
  },
  {
   "cell_type": "markdown",
   "metadata": {},
   "source": [
    "Pandas will do most of the loading for us from a range of formats, including Excel. Let's load up the faults data"
   ]
  },
  {
   "cell_type": "code",
   "execution_count": 4,
   "metadata": {},
   "outputs": [],
   "source": [
    "import pandas as pd"
   ]
  },
  {
   "cell_type": "code",
   "execution_count": 5,
   "metadata": {},
   "outputs": [
    {
     "data": {
      "text/plain": [
       "['Method',\n",
       " 'Catalogue Codes Desc',\n",
       " 'All Notifications_2010-2016',\n",
       " 'Pivot_Leaks_Mains Failure',\n",
       " 'Pivot_Leaks_3rd Party',\n",
       " 'Pivot_Leaks_Tree Roots',\n",
       " 'Pivot_No Gas_Water in Main']"
      ]
     },
     "execution_count": 5,
     "metadata": {},
     "output_type": "execute_result"
    }
   ],
   "source": [
    "# This points to the location of the fault data file on my computer\n",
    "fault_file = path.join(data_folder, 'Mains Faults Data_SAP_2010-2016.xlsx')\n",
    "\n",
    "# First we need to see what sheets we have available in the book\n",
    "faults_xl = pd.ExcelFile(fault_file)\n",
    "faults_xl.sheet_names"
   ]
  },
  {
   "cell_type": "markdown",
   "metadata": {},
   "source": [
    "Now we can pick which sheet we want to play with. There's a few pivot tables (which we can recreate pretty simply in Python if required). However `All Notifications_2010-2016` looks most promising. "
   ]
  },
  {
   "cell_type": "code",
   "execution_count": 6,
   "metadata": {},
   "outputs": [],
   "source": [
    "df = faults_xl.parse('All Notifications_2010-2016')"
   ]
  },
  {
   "cell_type": "markdown",
   "metadata": {},
   "source": [
    "> Note: We could have gone straight to this if we knew the names of the sheets by using `pandas.read_excel` and passing the sheet name. However it's useful sometimes to have the list of sheets in Python hence the approach we've taken above. You can try the alternative approach yourself\n",
    "\n",
    "Let's take a look at this data"
   ]
  },
  {
   "cell_type": "code",
   "execution_count": 7,
   "metadata": {},
   "outputs": [
    {
     "data": {
      "text/html": [
       "<div>\n",
       "<style scoped>\n",
       "    .dataframe tbody tr th:only-of-type {\n",
       "        vertical-align: middle;\n",
       "    }\n",
       "\n",
       "    .dataframe tbody tr th {\n",
       "        vertical-align: top;\n",
       "    }\n",
       "\n",
       "    .dataframe thead th {\n",
       "        text-align: right;\n",
       "    }\n",
       "</style>\n",
       "<table border=\"1\" class=\"dataframe\">\n",
       "  <thead>\n",
       "    <tr style=\"text-align: right;\">\n",
       "      <th></th>\n",
       "      <th>Notification</th>\n",
       "      <th>Notif.date</th>\n",
       "      <th>Notification Year</th>\n",
       "      <th>Code group</th>\n",
       "      <th>Damage Code</th>\n",
       "      <th>Code group.1</th>\n",
       "      <th>Cause code</th>\n",
       "      <th>Code group.2</th>\n",
       "      <th>ObjectPartCode</th>\n",
       "      <th>Functional Loc.</th>\n",
       "      <th>...</th>\n",
       "      <th>Priority</th>\n",
       "      <th>Priority Code</th>\n",
       "      <th>Description.1</th>\n",
       "      <th>User status</th>\n",
       "      <th>System status</th>\n",
       "      <th>Cause code text</th>\n",
       "      <th>City</th>\n",
       "      <th>Malfunct. start</th>\n",
       "      <th>Malfunct.end</th>\n",
       "      <th>Location</th>\n",
       "    </tr>\n",
       "  </thead>\n",
       "  <tbody>\n",
       "    <tr>\n",
       "      <th>0</th>\n",
       "      <td>301049381</td>\n",
       "      <td>2011-05-20</td>\n",
       "      <td>2011</td>\n",
       "      <td>MNWORK</td>\n",
       "      <td>CHCK</td>\n",
       "      <td>MNREQUST</td>\n",
       "      <td>CUST</td>\n",
       "      <td>MNOBJECT</td>\n",
       "      <td>PIPE</td>\n",
       "      <td>00900834</td>\n",
       "      <td>...</td>\n",
       "      <td>NaN</td>\n",
       "      <td>SP</td>\n",
       "      <td>PIP 89 DRILLSHOT</td>\n",
       "      <td>INI  NORD</td>\n",
       "      <td>NOCO NOPT</td>\n",
       "      <td>Customer Request</td>\n",
       "      <td>CAPEL</td>\n",
       "      <td>2011-05-20</td>\n",
       "      <td>2011-05-24</td>\n",
       "      <td>BS</td>\n",
       "    </tr>\n",
       "    <tr>\n",
       "      <th>1</th>\n",
       "      <td>301116137</td>\n",
       "      <td>2011-12-01</td>\n",
       "      <td>2011</td>\n",
       "      <td>MNWORK</td>\n",
       "      <td>CHCK</td>\n",
       "      <td>MNREQUST</td>\n",
       "      <td>AGAS</td>\n",
       "      <td>MNOBJECT</td>\n",
       "      <td>PIPE</td>\n",
       "      <td>00895059</td>\n",
       "      <td>...</td>\n",
       "      <td>NaN</td>\n",
       "      <td>SP</td>\n",
       "      <td>PIP 18 Access Rights Mandurah Gas Latera</td>\n",
       "      <td>INI</td>\n",
       "      <td>NOCO ORAS</td>\n",
       "      <td>AGN Request</td>\n",
       "      <td>PINJARRA</td>\n",
       "      <td>2011-12-01</td>\n",
       "      <td>NaT</td>\n",
       "      <td>MA</td>\n",
       "    </tr>\n",
       "    <tr>\n",
       "      <th>2</th>\n",
       "      <td>301630883</td>\n",
       "      <td>2015-08-17</td>\n",
       "      <td>2015</td>\n",
       "      <td>SNSERSTD</td>\n",
       "      <td>NEW</td>\n",
       "      <td>NaN</td>\n",
       "      <td>NaN</td>\n",
       "      <td>MNOBJECT</td>\n",
       "      <td>PIPE</td>\n",
       "      <td>01007110</td>\n",
       "      <td>...</td>\n",
       "      <td>NaN</td>\n",
       "      <td>SN</td>\n",
       "      <td>9 SLAB INSTALLATION</td>\n",
       "      <td>INI</td>\n",
       "      <td>OSNO</td>\n",
       "      <td>NaN</td>\n",
       "      <td>BASSENDEAN</td>\n",
       "      <td>2015-08-17</td>\n",
       "      <td>NaT</td>\n",
       "      <td>NM</td>\n",
       "    </tr>\n",
       "    <tr>\n",
       "      <th>3</th>\n",
       "      <td>300943307</td>\n",
       "      <td>2010-06-13</td>\n",
       "      <td>2010</td>\n",
       "      <td>MNWORK</td>\n",
       "      <td>CHCK</td>\n",
       "      <td>MNCAUSE</td>\n",
       "      <td>3PTY</td>\n",
       "      <td>MNOBJECT</td>\n",
       "      <td>PIPE</td>\n",
       "      <td>00876628</td>\n",
       "      <td>...</td>\n",
       "      <td>NaN</td>\n",
       "      <td>SP</td>\n",
       "      <td>PIP ****SITE VISIT****</td>\n",
       "      <td>INI  NORD</td>\n",
       "      <td>ATCO NOCO</td>\n",
       "      <td>3rd Party Intervention</td>\n",
       "      <td>WANGARA</td>\n",
       "      <td>2010-06-07</td>\n",
       "      <td>2010-06-08</td>\n",
       "      <td>NM</td>\n",
       "    </tr>\n",
       "    <tr>\n",
       "      <th>4</th>\n",
       "      <td>301079516</td>\n",
       "      <td>2011-08-16</td>\n",
       "      <td>2011</td>\n",
       "      <td>MNWORK</td>\n",
       "      <td>CHCK</td>\n",
       "      <td>MNREQUST</td>\n",
       "      <td>CUST</td>\n",
       "      <td>MNOBJECT</td>\n",
       "      <td>PIPE</td>\n",
       "      <td>00898718</td>\n",
       "      <td>...</td>\n",
       "      <td>NaN</td>\n",
       "      <td>SP</td>\n",
       "      <td>PIP 1016 EXCAVTION</td>\n",
       "      <td>INI  NORD</td>\n",
       "      <td>NOCO NOPT</td>\n",
       "      <td>Customer Request</td>\n",
       "      <td>ALKIMOS</td>\n",
       "      <td>2011-08-17</td>\n",
       "      <td>2011-08-17</td>\n",
       "      <td>NM</td>\n",
       "    </tr>\n",
       "  </tbody>\n",
       "</table>\n",
       "<p>5 rows × 31 columns</p>\n",
       "</div>"
      ],
      "text/plain": [
       "   Notification Notif.date  Notification Year Code group Damage Code  \\\n",
       "0     301049381 2011-05-20               2011     MNWORK        CHCK   \n",
       "1     301116137 2011-12-01               2011     MNWORK        CHCK   \n",
       "2     301630883 2015-08-17               2015   SNSERSTD         NEW   \n",
       "3     300943307 2010-06-13               2010     MNWORK        CHCK   \n",
       "4     301079516 2011-08-16               2011     MNWORK        CHCK   \n",
       "\n",
       "  Code group.1 Cause code Code group.2 ObjectPartCode Functional Loc.  \\\n",
       "0     MNREQUST       CUST     MNOBJECT           PIPE        00900834   \n",
       "1     MNREQUST       AGAS     MNOBJECT           PIPE        00895059   \n",
       "2          NaN        NaN     MNOBJECT           PIPE        01007110   \n",
       "3      MNCAUSE       3PTY     MNOBJECT           PIPE        00876628   \n",
       "4     MNREQUST       CUST     MNOBJECT           PIPE        00898718   \n",
       "\n",
       "    ...    Priority Priority Code                             Description.1  \\\n",
       "0   ...         NaN            SP                          PIP 89 DRILLSHOT   \n",
       "1   ...         NaN            SP  PIP 18 Access Rights Mandurah Gas Latera   \n",
       "2   ...         NaN            SN                       9 SLAB INSTALLATION   \n",
       "3   ...         NaN            SP                    PIP ****SITE VISIT****   \n",
       "4   ...         NaN            SP                        PIP 1016 EXCAVTION   \n",
       "\n",
       "  User status System status         Cause code text        City  \\\n",
       "0   INI  NORD     NOCO NOPT        Customer Request       CAPEL   \n",
       "1         INI     NOCO ORAS             AGN Request    PINJARRA   \n",
       "2         INI          OSNO                     NaN  BASSENDEAN   \n",
       "3   INI  NORD     ATCO NOCO  3rd Party Intervention     WANGARA   \n",
       "4   INI  NORD     NOCO NOPT        Customer Request     ALKIMOS   \n",
       "\n",
       "  Malfunct. start Malfunct.end Location  \n",
       "0      2011-05-20   2011-05-24       BS  \n",
       "1      2011-12-01          NaT       MA  \n",
       "2      2015-08-17          NaT       NM  \n",
       "3      2010-06-07   2010-06-08       NM  \n",
       "4      2011-08-17   2011-08-17       NM  \n",
       "\n",
       "[5 rows x 31 columns]"
      ]
     },
     "execution_count": 7,
     "metadata": {},
     "output_type": "execute_result"
    }
   ],
   "source": [
    "df.head()"
   ]
  },
  {
   "cell_type": "markdown",
   "metadata": {},
   "source": [
    "We can also get basic info about this dataframe"
   ]
  },
  {
   "cell_type": "code",
   "execution_count": 8,
   "metadata": {},
   "outputs": [
    {
     "name": "stdout",
     "output_type": "stream",
     "text": [
      "<class 'pandas.core.frame.DataFrame'>\n",
      "RangeIndex: 23021 entries, 0 to 23020\n",
      "Data columns (total 31 columns):\n",
      "Notification         23021 non-null int64\n",
      "Notif.date           23021 non-null datetime64[ns]\n",
      "Notification Year    23021 non-null int64\n",
      "Code group           22498 non-null object\n",
      "Damage Code          22498 non-null object\n",
      "Code group.1         22439 non-null object\n",
      "Cause code           22439 non-null object\n",
      "Code group.2         23021 non-null object\n",
      "ObjectPartCode       23021 non-null object\n",
      "Functional Loc.      23020 non-null object\n",
      "Description          23020 non-null object\n",
      "Type                 23020 non-null object\n",
      "Pressure Rating      22959 non-null object\n",
      "Pipe Size            23013 non-null object\n",
      "Pipe Material        22957 non-null object\n",
      "Suburb               23008 non-null object\n",
      "Street Name          22574 non-null object\n",
      "Street Type          16211 non-null object\n",
      "Street No.           15573 non-null object\n",
      "Notifictn type       23021 non-null object\n",
      "PriorityType         23021 non-null object\n",
      "Priority             23013 non-null object\n",
      "Priority Code        23021 non-null object\n",
      "Description.1        23021 non-null object\n",
      "User status          23021 non-null object\n",
      "System status        23021 non-null object\n",
      "Cause code text      22439 non-null object\n",
      "City                 23015 non-null object\n",
      "Malfunct. start      23018 non-null datetime64[ns]\n",
      "Malfunct.end         20212 non-null datetime64[ns]\n",
      "Location             23020 non-null object\n",
      "dtypes: datetime64[ns](3), int64(2), object(26)\n",
      "memory usage: 5.4+ MB\n"
     ]
    }
   ],
   "source": [
    "df.info()"
   ]
  },
  {
   "cell_type": "markdown",
   "metadata": {},
   "source": [
    "Pandas has worked out a few things for us - it's identified which columns hold dates, and that the Notification ID is an integer. There are a lot of other columns which have variable data that Pandas doesn't want to guess what type would fit everything. Since most columns are 'objects' we are going to have to handle them individually.\n",
    "\n",
    "So first we need to sort on basic data types. We could have columns that are:\n",
    "\n",
    "1. floating-point numbers (`numpy.float`)\n",
    "2. integers (`numpy.int`)\n",
    "3. categories (`pandas.Categorical`)\n",
    "4. strings (`str`)\n",
    "5. dates/times (`pandas.DateTime`)\n",
    "6. something else? (`pandas.Object`)\n",
    "\n",
    "Pandas has seperate datatypes for each of these things. When cleaning our data we should try and map the columns to the relevant datatype. As we do this we will have to think about how to label invalid values, and what we'll do with records which have invalid values.\n",
    "\n",
    "We'll show an example of this for a numeric value and one for a categorical distribution. In this dataset there are lots of misplaced values (probably due to bugs in the ingest software) so we will need to flag these as we go.\n",
    "\n",
    "### Numeric values\n",
    "\n",
    "The basic idea is to coerce the values to numeric and see what gets tossed out as a NaN (meaning Pandas couldn't infer a numerical value from that entry)."
   ]
  },
  {
   "cell_type": "code",
   "execution_count": 9,
   "metadata": {},
   "outputs": [
    {
     "data": {
      "text/plain": [
       "Index(['Notification', 'Notif.date', 'Notification Year', 'Code group',\n",
       "       'Damage Code', 'Code group.1', 'Cause code', 'Code group.2',\n",
       "       'ObjectPartCode', 'Functional Loc.', 'Description', 'Type',\n",
       "       'Pressure Rating', 'Pipe Size', 'Pipe Material', 'Suburb ',\n",
       "       'Street Name', 'Street Type', 'Street No. ', 'Notifictn type',\n",
       "       'PriorityType', 'Priority', 'Priority Code', 'Description.1',\n",
       "       'User status', 'System status', 'Cause code text', 'City',\n",
       "       'Malfunct. start', 'Malfunct.end', 'Location'],\n",
       "      dtype='object')"
      ]
     },
     "execution_count": 9,
     "metadata": {},
     "output_type": "execute_result"
    }
   ],
   "source": [
    "df.keys()"
   ]
  },
  {
   "cell_type": "markdown",
   "metadata": {},
   "source": [
    "Let's try pipe size"
   ]
  },
  {
   "cell_type": "code",
   "execution_count": 10,
   "metadata": {},
   "outputs": [
    {
     "name": "stdout",
     "output_type": "stream",
     "text": [
      "We have 297 non-numeric entries\n",
      "Five random entries:\n",
      " -- FOSTER\n",
      " -- GAY\n",
      " -- MANNING\n",
      " -- ROBERTSON\n",
      " -- SHAFTESBURY\n"
     ]
    }
   ],
   "source": [
    "pipe_size = pd.to_numeric(df['Pipe Size'], errors='coerce')\n",
    "\n",
    "# We can make an array which is True for NaNs \n",
    "nans = pd.isna(pipe_size)\n",
    "print('We have', nans.sum(), 'non-numeric entries')\n",
    "\n",
    "# We can get a random sample of these entries to see what\n",
    "# sort of non-numeric values are in this dataset\n",
    "print('Five random entries:')\n",
    "for entry in df['Pipe Size'][nans].sample(5):\n",
    "    print(f' -- {entry}')"
   ]
  },
  {
   "cell_type": "markdown",
   "metadata": {},
   "source": [
    "So it looks like theres a few misplaced fields in this dataset. We can check this for a few other columns as well. If it's not too bad we can just coerce everything we expect to be numeric and then drop rows with NaNs in later on.\n",
    "\n",
    "Before we go too much further lets write our little exploration script into a function that we can call on a column in the dataframe."
   ]
  },
  {
   "cell_type": "code",
   "execution_count": 11,
   "metadata": {},
   "outputs": [],
   "source": [
    "def report_non_numeric_values(df, column, show=5):\n",
    "    \"\"\"\n",
    "    Report on values in a given column which can't be coerced to \n",
    "    numeric values.\n",
    "    \n",
    "    Parameters:\n",
    "        df - the dataframe holding our data\n",
    "        column - the key denoting which column we'd like to \n",
    "            generate a report for\n",
    "        show - how many random inavlid values to show. \n",
    "            Default is five random samples\n",
    "    \"\"\"\n",
    "    # Make the NaN array all in one hit\n",
    "    nans = pd.isna(pd.to_numeric(df[column], errors='coerce'))\n",
    "    \n",
    "    # Print our little report\n",
    "    print(f'For column \"{column}\"')\n",
    "    n_nans = nans.sum()\n",
    "    if n_nans == 0:\n",
    "        print('No non-numeric records found')\n",
    "    else:\n",
    "        print('We have', nans.sum(), 'non-numeric records')\n",
    "        print('Some randomly-selected non-numeric records:')\n",
    "        for entry in df[column][nans][:5]:\n",
    "            print(f' -- {entry}')"
   ]
  },
  {
   "cell_type": "markdown",
   "metadata": {},
   "source": [
    "We can also have a look at a categorical column and see what's going on. Usually you can spot these using the `pandas.nunique` function - we're looking for columns where there is a small number of unique values"
   ]
  },
  {
   "cell_type": "code",
   "execution_count": 12,
   "metadata": {},
   "outputs": [
    {
     "data": {
      "text/plain": [
       "Notification         23017\n",
       "Notif.date            2252\n",
       "Notification Year        7\n",
       "Code group               9\n",
       "Damage Code             37\n",
       "Code group.1             8\n",
       "Cause code              22\n",
       "Code group.2             1\n",
       "ObjectPartCode          17\n",
       "Functional Loc.      15483\n",
       "Description          14124\n",
       "Type                    11\n",
       "Pressure Rating        158\n",
       "Pipe Size              259\n",
       "Pipe Material           30\n",
       "Suburb                 602\n",
       "Street Name           4695\n",
       "Street Type            119\n",
       "Street No.            1502\n",
       "Notifictn type           4\n",
       "PriorityType             4\n",
       "Priority                22\n",
       "Priority Code           38\n",
       "Description.1        11395\n",
       "User status             35\n",
       "System status           20\n",
       "Cause code text         24\n",
       "City                   442\n",
       "Malfunct. start       2253\n",
       "Malfunct.end          2280\n",
       "Location                 8\n",
       "dtype: int64"
      ]
     },
     "execution_count": 12,
     "metadata": {},
     "output_type": "execute_result"
    }
   ],
   "source": [
    "df.nunique()"
   ]
  },
  {
   "cell_type": "markdown",
   "metadata": {},
   "source": [
    "Some of those make sense although pressure rating seems a bit strange - there are 158 values when there should only be a few of these. "
   ]
  },
  {
   "cell_type": "markdown",
   "metadata": {},
   "source": [
    "How do we know what to keep? There's a few ways of proceeding. Pandas has a useful `describe` method to quickly see what's happening in a column"
   ]
  },
  {
   "cell_type": "code",
   "execution_count": 13,
   "metadata": {},
   "outputs": [
    {
     "data": {
      "text/plain": [
       "count     22959\n",
       "unique      158\n",
       "top          MP\n",
       "freq       7637\n",
       "Name: Pressure Rating, dtype: object"
      ]
     },
     "execution_count": 13,
     "metadata": {},
     "output_type": "execute_result"
    }
   ],
   "source": [
    "df['Pressure Rating'].describe()"
   ]
  },
  {
   "cell_type": "markdown",
   "metadata": {},
   "source": [
    "We can also count up how many of each we have"
   ]
  },
  {
   "cell_type": "code",
   "execution_count": 14,
   "metadata": {},
   "outputs": [
    {
     "data": {
      "text/plain": [
       "MP            7637\n",
       "HP            5580\n",
       "MLP           3133\n",
       "PEHP          2234\n",
       "AMP           2068\n",
       "CHP           1447\n",
       "LP             447\n",
       "FHP            113\n",
       "PTH             20\n",
       "NONE            11\n",
       "E PTH            9\n",
       "BAYSWTR          8\n",
       "NTHBRDGE         5\n",
       "YNGBP            5\n",
       "FRSTFLD          5\n",
       "NRBP             5\n",
       "NLMRA            5\n",
       "KLMSCT           5\n",
       "MRLY             5\n",
       "KWNA BCH         4\n",
       "PNJRR            4\n",
       "SCRT HRB         4\n",
       "PLMYRA           4\n",
       "JNDLE            4\n",
       "N PTH            4\n",
       "N FTLE           4\n",
       "CLRKSN           3\n",
       "RVRVLE           3\n",
       "W PTH            3\n",
       "HNTNGDLE         3\n",
       "              ... \n",
       "BOYNP            1\n",
       "OAKLY            1\n",
       "KNWK             1\n",
       "S KLGRLIE        1\n",
       "ROSMYNE          1\n",
       "LCKRDGE          1\n",
       "LNGFD            1\n",
       "GLDFD            1\n",
       "BSNDN            1\n",
       "CRGIE            1\n",
       "WEMB DWN         1\n",
       "KARNYP           1\n",
       "ERSKNE           1\n",
       "VIVSH            1\n",
       "BOYA             1\n",
       "EDN HLL          1\n",
       "MOS PK           1\n",
       "N BCH            1\n",
       "WLRD             1\n",
       "BLVUE            1\n",
       "TRIGG            1\n",
       "SEVLLE GRV       1\n",
       "WSTMNSTR         1\n",
       "FTLE             1\n",
       "CVSHM            1\n",
       "BYFD             1\n",
       "HLTN             1\n",
       "GSBRY HLL        1\n",
       "MNSTR            1\n",
       "MNDRH            1\n",
       "Name: Pressure Rating, Length: 158, dtype: int64"
      ]
     },
     "execution_count": 14,
     "metadata": {},
     "output_type": "execute_result"
    }
   ],
   "source": [
    "df['Pressure Rating'].value_counts()"
   ]
  },
  {
   "cell_type": "markdown",
   "metadata": {},
   "source": [
    "So looks like there are some useful categories and then a bunch of mis-matched categories. \n",
    "\n",
    "We can clean this up by coercing the column to a categorical datatype. If we specify the categories ahead of time then anything that doesn't match will be assigned to the NaN category."
   ]
  },
  {
   "cell_type": "code",
   "execution_count": 15,
   "metadata": {},
   "outputs": [
    {
     "data": {
      "text/html": [
       "<div>\n",
       "<style scoped>\n",
       "    .dataframe tbody tr th:only-of-type {\n",
       "        vertical-align: middle;\n",
       "    }\n",
       "\n",
       "    .dataframe tbody tr th {\n",
       "        vertical-align: top;\n",
       "    }\n",
       "\n",
       "    .dataframe thead th {\n",
       "        text-align: right;\n",
       "    }\n",
       "</style>\n",
       "<table border=\"1\" class=\"dataframe\">\n",
       "  <thead>\n",
       "    <tr style=\"text-align: right;\">\n",
       "      <th></th>\n",
       "      <th>counts</th>\n",
       "      <th>freqs</th>\n",
       "    </tr>\n",
       "    <tr>\n",
       "      <th>categories</th>\n",
       "      <th></th>\n",
       "      <th></th>\n",
       "    </tr>\n",
       "  </thead>\n",
       "  <tbody>\n",
       "    <tr>\n",
       "      <th>MP</th>\n",
       "      <td>7637</td>\n",
       "      <td>0.331741</td>\n",
       "    </tr>\n",
       "    <tr>\n",
       "      <th>HP</th>\n",
       "      <td>5580</td>\n",
       "      <td>0.242387</td>\n",
       "    </tr>\n",
       "    <tr>\n",
       "      <th>MLP</th>\n",
       "      <td>3133</td>\n",
       "      <td>0.136093</td>\n",
       "    </tr>\n",
       "    <tr>\n",
       "      <th>PEHP</th>\n",
       "      <td>2234</td>\n",
       "      <td>0.097042</td>\n",
       "    </tr>\n",
       "    <tr>\n",
       "      <th>AMP</th>\n",
       "      <td>2068</td>\n",
       "      <td>0.089831</td>\n",
       "    </tr>\n",
       "    <tr>\n",
       "      <th>CHP</th>\n",
       "      <td>1447</td>\n",
       "      <td>0.062856</td>\n",
       "    </tr>\n",
       "    <tr>\n",
       "      <th>LP</th>\n",
       "      <td>447</td>\n",
       "      <td>0.019417</td>\n",
       "    </tr>\n",
       "    <tr>\n",
       "      <th>FHP</th>\n",
       "      <td>113</td>\n",
       "      <td>0.004909</td>\n",
       "    </tr>\n",
       "    <tr>\n",
       "      <th>NaN</th>\n",
       "      <td>362</td>\n",
       "      <td>0.015725</td>\n",
       "    </tr>\n",
       "  </tbody>\n",
       "</table>\n",
       "</div>"
      ],
      "text/plain": [
       "            counts     freqs\n",
       "categories                  \n",
       "MP            7637  0.331741\n",
       "HP            5580  0.242387\n",
       "MLP           3133  0.136093\n",
       "PEHP          2234  0.097042\n",
       "AMP           2068  0.089831\n",
       "CHP           1447  0.062856\n",
       "LP             447  0.019417\n",
       "FHP            113  0.004909\n",
       "NaN            362  0.015725"
      ]
     },
     "execution_count": 15,
     "metadata": {},
     "output_type": "execute_result"
    }
   ],
   "source": [
    "pressure_rating = pd.Categorical(\n",
    "    df['Pressure Rating'],\n",
    "    categories=('MP', 'HP', 'MLP', 'PEHP', 'AMP', \n",
    "                'CHP', 'LP', 'FHP')\n",
    ")\n",
    "pressure_rating.describe()"
   ]
  },
  {
   "cell_type": "markdown",
   "metadata": {},
   "source": [
    "We can also plot the data up using Seaborn. Seaborn is a plotting library that knows how to generate a lot of different exploratory plots for you from pandas dataframes."
   ]
  },
  {
   "cell_type": "code",
   "execution_count": 16,
   "metadata": {},
   "outputs": [],
   "source": [
    "import seaborn\n",
    "seaborn.set()  # let seaborn set up the notebook for plotting"
   ]
  },
  {
   "cell_type": "markdown",
   "metadata": {},
   "source": [
    "In particular seaborn has a countplot instance that is useful here"
   ]
  },
  {
   "cell_type": "code",
   "execution_count": 17,
   "metadata": {},
   "outputs": [
    {
     "data": {
      "text/plain": [
       "<matplotlib.axes._subplots.AxesSubplot at 0x1133b5128>"
      ]
     },
     "execution_count": 17,
     "metadata": {},
     "output_type": "execute_result"
    },
    {
     "data": {
      "image/png": "[encoded data removed]",
      "text/plain": [
       "<Figure size 432x288 with 1 Axes>"
      ]
     },
     "metadata": {
      "needs_background": "light"
     },
     "output_type": "display_data"
    }
   ],
   "source": [
    "seaborn.countplot(pressure_rating)"
   ]
  },
  {
   "cell_type": "markdown",
   "metadata": {},
   "source": [
    "We can do this for a bunch of the other categories as well"
   ]
  },
  {
   "cell_type": "markdown",
   "metadata": {},
   "source": [
    "### Cleaned dataset\n",
    "\n",
    "In addition to changing these columns "
   ]
  },
  {
   "cell_type": "code",
   "execution_count": 18,
   "metadata": {},
   "outputs": [],
   "source": [
    "df.set_index('Notification')\n",
    "clean = pd.DataFrame(index=df.index)\n",
    "\n",
    "# Stuff that we just copy across under a new name\n",
    "make_copy = (\n",
    "    ('Functional Loc.', 'functional_location'),\n",
    ")\n",
    "\n",
    "# Numeric columns\n",
    "clean['pipe_size'] = pd.to_numeric(df['Pipe Size'], errors='coerce')\n",
    "\n",
    "# Categorical columns\n",
    "make_categorical = (  # has column, new_name, category pairs\n",
    "    ('Code group', 'code_group_0', None),  # category = None means make everything into a category\n",
    "    ('Code group.1', 'code_group_1', None),\n",
    "#     ('Code group.2', 'code_group_2', None),  # only has MNOBJECT whatever that means\n",
    "    ('Pressure Rating', 'pressure_rating', \n",
    "         ('MP', 'HP', 'MLP', 'PEHP', 'AMP', \n",
    "                         'CHP', 'LP', 'FHP')),\n",
    "    ('Pipe Material', 'pipe_material', ('PVC', 'ST', 'PE', 'GI', 'CI')),\n",
    "    ('Damage Code', 'damage_code', None),\n",
    "    ('Cause code', 'cause_code', None),\n",
    "    ('ObjectPartCode', 'object_part_code', None),\n",
    "    ('Location', 'location', None)\n",
    ")\n",
    "for column, new_name, cats in make_categorical:\n",
    "    clean[new_name] = pd.Categorical(df[column], categories=cats)\n",
    "    \n",
    "# Suburbs turns out to be tricky - here we hack together a list of valid categories to\n",
    "# pass to pandas.Categorical. Alternative is to put together a manual list of values.\n",
    "suburbs = df['Suburb '].str.rstrip(';')\n",
    "ok_suburbs = [\n",
    "    s for s in suburbs.unique()\n",
    "    if not(isinstance(s, int) or isinstance(s, float))\n",
    "    and len(list(filter(str.isdigit, s))) == 0  # will be > 0 if any digits in the string\n",
    "]\n",
    "clean['suburb'] = pd.Categorical(suburbs, categories=ok_suburbs)"
   ]
  },
  {
   "cell_type": "markdown",
   "metadata": {},
   "source": [
    "Finally let's map some of the damage codes and suburbs to actual values"
   ]
  },
  {
   "cell_type": "code",
   "execution_count": 19,
   "metadata": {},
   "outputs": [
    {
     "data": {
      "text/plain": [
       "['ABBY',\n",
       " 'ALBNY',\n",
       " 'ALFD CVE',\n",
       " 'ALKMS',\n",
       " 'ALXNDR HTS',\n",
       " 'APLCRS',\n",
       " 'ARDS',\n",
       " 'ARMDLE',\n",
       " 'ASCOT',\n",
       " 'ASH',\n",
       " 'ASHBY',\n",
       " 'ATDALE',\n",
       " 'ATWELL',\n",
       " 'AUBIN GR',\n",
       " 'AUSTRLND',\n",
       " 'AVELEY',\n",
       " 'BALGA',\n",
       " 'BANJP',\n",
       " 'BATMN',\n",
       " 'BAYSWTR',\n",
       " 'BCHBRO',\n",
       " 'BCHLNDS',\n",
       " 'BCNSFLD',\n",
       " 'BCTN',\n",
       " 'BDFDLE',\n",
       " 'BEDFD',\n",
       " 'BENNT SPRG',\n",
       " 'BERTRAM',\n",
       " 'BIB LKE',\n",
       " 'BKNHM',\n",
       " 'BLAJRA',\n",
       " 'BLCTA',\n",
       " 'BLDN',\n",
       " 'BLDVS',\n",
       " 'BLFF PNT',\n",
       " 'BLIAR',\n",
       " 'BLMT',\n",
       " 'BLSBK',\n",
       " 'BLVUE',\n",
       " 'BNBRY',\n",
       " 'BNKSIA GRV',\n",
       " 'BNTLY',\n",
       " 'BOORGN',\n",
       " 'BOULDR',\n",
       " 'BOVELL',\n",
       " 'BOYA',\n",
       " 'BOYNP',\n",
       " 'BRABHAM',\n",
       " 'BRD WOOD',\n",
       " 'BRDWTR',\n",
       " 'BRKDLE',\n",
       " 'BRNS BCH',\n",
       " 'BRNTWD',\n",
       " 'BRSFRD',\n",
       " 'BSLTN',\n",
       " 'BSNDN',\n",
       " 'BULL CK',\n",
       " 'BURWD',\n",
       " 'BUTLER',\n",
       " 'BWICK',\n",
       " 'BWICK JN',\n",
       " 'BYFD',\n",
       " 'CAMILLO',\n",
       " 'CAPEL',\n",
       " 'CARDUP',\n",
       " 'CARINE',\n",
       " 'CARRAMAR',\n",
       " 'CASURNA',\n",
       " 'CGEE',\n",
       " 'CHMPN LKS',\n",
       " 'CHRCHLDS',\n",
       " 'CKBN CNTRL',\n",
       " 'CLBLP',\n",
       " 'CLBNIA',\n",
       " 'CLIFTON',\n",
       " 'CLLG GRV',\n",
       " 'CLNGWDHGT',\n",
       " 'CLNGWDPRK',\n",
       " 'CLRKSN',\n",
       " 'CLRMNT',\n",
       " 'CLSTA',\n",
       " 'CLVRDLE',\n",
       " 'CNG VLE',\n",
       " 'CNGTN',\n",
       " 'CNNLY',\n",
       " 'CNTNL PRK',\n",
       " 'COLNGP',\n",
       " 'COMO',\n",
       " 'COODUP',\n",
       " 'COTT',\n",
       " 'CRCKD BK',\n",
       " 'CRGIE',\n",
       " 'CRLSLE',\n",
       " 'CRMBNE',\n",
       " 'CRWLY',\n",
       " 'CRY PRK',\n",
       " 'CVSHM',\n",
       " 'CY BCH',\n",
       " 'DARCH',\n",
       " 'DARDANUP W',\n",
       " 'DARDNP',\n",
       " 'DAWES',\n",
       " 'DBLVW',\n",
       " 'DDLY PRK',\n",
       " 'DGLSH',\n",
       " 'DLKTH',\n",
       " 'DLYLUP',\n",
       " 'DNCRG',\n",
       " 'DNELLA',\n",
       " 'DPDLE',\n",
       " 'DRLGDWNS',\n",
       " 'DRLTN',\n",
       " 'DVNPRT',\n",
       " 'DYTN',\n",
       " 'E CNGTN',\n",
       " 'E FTLE',\n",
       " 'E PTH',\n",
       " 'E VIC PK',\n",
       " 'EATON',\n",
       " 'EDGWTR',\n",
       " 'EDN HLL',\n",
       " 'EGLNTN',\n",
       " 'ELLENBRK',\n",
       " 'ELLENDALE',\n",
       " 'EMBLTN',\n",
       " 'ERSKNE',\n",
       " 'EST BNBRY',\n",
       " 'FALCON',\n",
       " 'FLORT',\n",
       " 'FRNDLE',\n",
       " 'FRSTDLE',\n",
       " 'FRSTFLD',\n",
       " 'FTLE',\n",
       " 'FURDALE',\n",
       " 'GGRPHE',\n",
       " 'GLDFD',\n",
       " 'GLDHW',\n",
       " 'GLN IRS',\n",
       " 'GLNDLGH',\n",
       " 'GLNFLD',\n",
       " 'GOLDBAY',\n",
       " 'GRGINA',\n",
       " 'GRLDTN',\n",
       " 'GRNFLDS',\n",
       " 'GRNMT',\n",
       " 'GRNWD',\n",
       " 'GRWHN',\n",
       " 'GSBRY HLL',\n",
       " 'GSNLS',\n",
       " 'GWLP',\n",
       " 'HALLS HD',\n",
       " 'HAM HLL',\n",
       " 'HARRISDALE',\n",
       " 'HAYNES',\n",
       " 'HERNE HLL',\n",
       " 'HGH WYCO',\n",
       " 'HGTE',\n",
       " 'HILBERT',\n",
       " 'HLMN',\n",
       " 'HLNA VLY',\n",
       " 'HLRYS',\n",
       " 'HLTN',\n",
       " 'HMMND PARK',\n",
       " 'HMRSLY',\n",
       " 'HNDRSN',\n",
       " 'HNLY BK',\n",
       " 'HNNANS',\n",
       " 'HNTNGDLE',\n",
       " 'HOCKING',\n",
       " 'HRVY',\n",
       " 'HTHRDGE',\n",
       " 'HZLMRE',\n",
       " 'ILUKA',\n",
       " 'INGLWD',\n",
       " 'INLOO',\n",
       " 'JABRK',\n",
       " 'JLMT',\n",
       " 'JNDKT',\n",
       " 'JNDLE',\n",
       " 'JNDLP',\n",
       " 'JNDNA',\n",
       " 'KARNUP',\n",
       " 'KARNYP',\n",
       " 'KEALY',\n",
       " 'KENS',\n",
       " 'KIARA',\n",
       " 'KLGRLIE',\n",
       " 'KLMDA',\n",
       " 'KLMSCT',\n",
       " 'KLROO',\n",
       " 'KNDLA',\n",
       " 'KNGMIA',\n",
       " 'KNGS PK',\n",
       " 'KNGSLY',\n",
       " 'KNRS',\n",
       " 'KNWK',\n",
       " 'KRDYA',\n",
       " 'KRKTA',\n",
       " 'KRLKRLA',\n",
       " 'KRLOO',\n",
       " 'KRWRA',\n",
       " 'KWDLE',\n",
       " 'KWNA',\n",
       " 'KWNA BCH',\n",
       " 'LAKLDS',\n",
       " 'LATHLN',\n",
       " 'LCKRDGE',\n",
       " 'LCKYR',\n",
       " 'LDLW',\n",
       " 'LEDA',\n",
       " 'LESCHNLT',\n",
       " 'LMNG',\n",
       " 'LMNGTON',\n",
       " 'LNDSLDE',\n",
       " 'LNG',\n",
       " 'LNGFD',\n",
       " 'LNWD',\n",
       " 'LVLLE',\n",
       " 'MADELEY',\n",
       " 'MADORA BAY',\n",
       " 'MANNG',\n",
       " 'MARM',\n",
       " 'MAYLDS',\n",
       " 'MCKL',\n",
       " 'MD SWAN',\n",
       " 'MDA VLE',\n",
       " 'MDDLTN BCH',\n",
       " 'MDGTN',\n",
       " 'MDLND',\n",
       " 'MDVLE',\n",
       " 'MEASPGS',\n",
       " 'MEDINA',\n",
       " 'MERWA',\n",
       " 'MHMTS FL',\n",
       " 'MILLBRDG',\n",
       " 'MLAGA',\n",
       " 'MLOO',\n",
       " 'MLVLE',\n",
       " 'MNDJNG',\n",
       " 'MNDRE',\n",
       " 'MNDRH',\n",
       " 'MNRA',\n",
       " 'MNSTR',\n",
       " 'MOS PK',\n",
       " 'MRA MR',\n",
       " 'MRABKA',\n",
       " 'MRDOCH',\n",
       " 'MRGNUP',\n",
       " 'MRLY',\n",
       " 'MRNGROO',\n",
       " 'MRTN',\n",
       " 'MT CLRMN',\n",
       " 'MT CLRNC',\n",
       " 'MT HAW',\n",
       " 'MT LWLY',\n",
       " 'MT MLVLL',\n",
       " 'MT NSR',\n",
       " 'MT PLSNT',\n",
       " 'MT RICHON',\n",
       " 'MT TRCLA',\n",
       " 'MUCHEA',\n",
       " 'MYREE',\n",
       " 'N BCH',\n",
       " 'N DNDLP',\n",
       " 'N FTLE',\n",
       " 'N LKE',\n",
       " 'N PTH',\n",
       " 'NAV BS',\n",
       " 'NDLNDS',\n",
       " 'NLMRA',\n",
       " 'NMBLUP',\n",
       " 'NOWRGP',\n",
       " 'NRBP',\n",
       " 'NRNDA',\n",
       " 'NRNGULU',\n",
       " 'NTH COOGEE',\n",
       " 'NTHBRDGE',\n",
       " 'NTHBYNUP',\n",
       " 'OCCNR',\n",
       " 'OCN REEF',\n",
       " 'ORANA',\n",
       " 'ORLA',\n",
       " 'OSB PK',\n",
       " 'PCDLLY',\n",
       " 'PCTN',\n",
       " 'PCTN E',\n",
       " 'PDBRY',\n",
       " 'PEP GR',\n",
       " 'PIARA WTRS',\n",
       " 'PKLDS',\n",
       " 'PLCN PNT',\n",
       " 'PLMYRA',\n",
       " 'PMLA',\n",
       " 'PNJRR',\n",
       " 'PRALL',\n",
       " 'PRKSTN',\n",
       " 'PRKWD',\n",
       " 'PRT ALBNY',\n",
       " 'PT KNNDY',\n",
       " 'PTH',\n",
       " 'PTH AIRPT',\n",
       " 'QNN RCKS',\n",
       " 'QNS PK',\n",
       " 'RDCLF',\n",
       " 'RED H',\n",
       " 'REINSCRT',\n",
       " 'RIDGEWOOD',\n",
       " 'RKGHM',\n",
       " 'RNGWY',\n",
       " 'ROELNDS',\n",
       " 'ROSMYNE',\n",
       " 'RVRVLE',\n",
       " 'RVTN',\n",
       " 'S BOULDR',\n",
       " 'S FTLE',\n",
       " 'S GLDFD',\n",
       " 'S KLGRLIE',\n",
       " 'S LKE',\n",
       " 'S PTH',\n",
       " 'S YNDRP',\n",
       " 'SAN REMO',\n",
       " 'SCBRO',\n",
       " 'SCESS',\n",
       " 'SCRT HRB',\n",
       " 'SEVLLE GRV',\n",
       " 'SFTY BY',\n",
       " 'SHEN PK',\n",
       " 'SHLWTR',\n",
       " 'SHLY',\n",
       " 'SIGRA',\n",
       " 'SLTR PNT',\n",
       " 'SLVR SNDS',\n",
       " 'SMRVLLE',\n",
       " 'SMSN',\n",
       " 'SNGLTON',\n",
       " 'SNST BCH',\n",
       " 'SPLDNG',\n",
       " 'SPNCR PRK',\n",
       " 'SPPNGS',\n",
       " 'SPRWD',\n",
       " 'SRRNTO',\n",
       " 'ST JAMES',\n",
       " 'ST JMES',\n",
       " 'STH BNBRY',\n",
       " 'STHN RVR',\n",
       " 'STKE HLL',\n",
       " 'STRLNG',\n",
       " 'STRTHLBY',\n",
       " 'STRTTN',\n",
       " 'SUBCO',\n",
       " 'SWAN VW',\n",
       " 'SWNBNE',\n",
       " 'TAMPK',\n",
       " 'TAPPING',\n",
       " 'THNLIE',\n",
       " 'TRCLA BC',\n",
       " 'TRIGG',\n",
       " 'TRT H',\n",
       " 'TWO RCKS',\n",
       " 'TWO ROCKS',\n",
       " 'USHER',\n",
       " 'UTKRR',\n",
       " 'VASSE',\n",
       " 'VCTRY HGTS',\n",
       " 'VIC PK',\n",
       " 'VINES',\n",
       " 'VIVSH',\n",
       " 'VTTRA',\n",
       " 'W BSLTN',\n",
       " 'W END',\n",
       " 'W KLGRLIE',\n",
       " 'W LMNGTON',\n",
       " 'W LVLLE',\n",
       " 'W PTH',\n",
       " 'W SWAN',\n",
       " 'WANDI',\n",
       " 'WANN',\n",
       " 'WANNUP',\n",
       " 'WBBRTN',\n",
       " 'WEMB',\n",
       " 'WEMB DWN',\n",
       " 'WGGRKN',\n",
       " 'WHITE GM',\n",
       " 'WHITMN',\n",
       " 'WILMSTWN',\n",
       " 'WKIKI',\n",
       " 'WLGEE',\n",
       " 'WLKWY',\n",
       " 'WLLSLY',\n",
       " 'WLRD',\n",
       " 'WLSN',\n",
       " 'WLSPL',\n",
       " 'WLTN',\n",
       " 'WNBRO',\n",
       " 'WNDNA',\n",
       " 'WNGNG',\n",
       " 'WNGRA',\n",
       " 'WNRP',\n",
       " 'WNTHLL',\n",
       " 'WNTHRP',\n",
       " 'WODBRDGE',\n",
       " 'WOKLP',\n",
       " 'WOODLNDS',\n",
       " 'WOODVLE',\n",
       " 'WRCK',\n",
       " 'WRREE',\n",
       " 'WSTMNSTR',\n",
       " 'WTHRS',\n",
       " 'WTLE GR',\n",
       " 'WTLP',\n",
       " 'WTRFD',\n",
       " 'WTRLOO',\n",
       " 'WTRMN BAY',\n",
       " 'YAKAMIA',\n",
       " 'YLYLUP',\n",
       " 'YNCHP',\n",
       " 'YNGBP',\n",
       " 'YOKN']"
      ]
     },
     "execution_count": 19,
     "metadata": {},
     "output_type": "execute_result"
    }
   ],
   "source": [
    "sorted(ok_suburbs)"
   ]
  },
  {
   "cell_type": "markdown",
   "metadata": {},
   "source": [
    "Now we can check our clean data "
   ]
  },
  {
   "cell_type": "code",
   "execution_count": 20,
   "metadata": {},
   "outputs": [
    {
     "name": "stdout",
     "output_type": "stream",
     "text": [
      "<class 'pandas.core.frame.DataFrame'>\n",
      "RangeIndex: 23021 entries, 0 to 23020\n",
      "Data columns (total 10 columns):\n",
      "pipe_size           22724 non-null float64\n",
      "code_group_0        22498 non-null category\n",
      "code_group_1        22439 non-null category\n",
      "pressure_rating     22659 non-null category\n",
      "pipe_material       22776 non-null category\n",
      "damage_code         22498 non-null category\n",
      "cause_code          22439 non-null category\n",
      "object_part_code    23021 non-null category\n",
      "location            23020 non-null category\n",
      "suburb              22724 non-null category\n",
      "dtypes: category(9), float64(1)\n",
      "memory usage: 432.8 KB\n"
     ]
    }
   ],
   "source": [
    "clean.info()"
   ]
  },
  {
   "cell_type": "markdown",
   "metadata": {},
   "source": [
    "As a nice bonus our dataframe requires an order of magnitude less memory than before (~0.5 MB not ~5 MB)"
   ]
  },
  {
   "cell_type": "code",
   "execution_count": 21,
   "metadata": {},
   "outputs": [
    {
     "data": {
      "text/plain": [
       "<matplotlib.axes._subplots.AxesSubplot at 0x113411c18>"
      ]
     },
     "execution_count": 21,
     "metadata": {},
     "output_type": "execute_result"
    },
    {
     "data": {
      "image/png": "[encoded data removed]",
      "text/plain": [
       "<Figure size 432x288 with 1 Axes>"
      ]
     },
     "metadata": {
      "needs_background": "light"
     },
     "output_type": "display_data"
    }
   ],
   "source": [
    "seaborn.stripplot(x='pipe_material', y='pipe_size', data=clean, jitter=True)"
   ]
  },
  {
   "cell_type": "code",
   "execution_count": 22,
   "metadata": {},
   "outputs": [
    {
     "data": {
      "text/plain": [
       "<seaborn.axisgrid.FacetGrid at 0x115ab6ac8>"
      ]
     },
     "execution_count": 22,
     "metadata": {},
     "output_type": "execute_result"
    },
    {
     "data": {
      "image/png": "[encoded data removed]",
      "text/plain": [
       "<Figure size 360x360 with 1 Axes>"
      ]
     },
     "metadata": {
      "needs_background": "light"
     },
     "output_type": "display_data"
    }
   ],
   "source": [
    "seaborn.catplot(x='pipe_size', y='damage_code', data=clean)"
   ]
  },
  {
   "cell_type": "markdown",
   "metadata": {},
   "source": [
    "We need to serialize this data somehow. If we write it back out to CSV we lose all the work we've put into making these categorical data types. Instead we're going to use [feather](https://github.com/wesm/feather) - an open interoperable binary dataframe format that can be read in R, and Python and whatever else you want to use (Hadoop and friends spring to mind). "
   ]
  },
  {
   "cell_type": "code",
   "execution_count": 23,
   "metadata": {},
   "outputs": [],
   "source": [
    "feather_file = path.join(data_folder, 'faults_data_2010_2016.feather')\n",
    "clean.to_feather(feather_file)"
   ]
  },
  {
   "cell_type": "markdown",
   "metadata": {},
   "source": [
    "And we can read it straight back in with:"
   ]
  },
  {
   "cell_type": "code",
   "execution_count": 24,
   "metadata": {},
   "outputs": [
    {
     "name": "stdout",
     "output_type": "stream",
     "text": [
      "<class 'pandas.core.frame.DataFrame'>\n",
      "RangeIndex: 23021 entries, 0 to 23020\n",
      "Data columns (total 10 columns):\n",
      "pipe_size           22724 non-null float64\n",
      "code_group_0        22498 non-null category\n",
      "code_group_1        22439 non-null category\n",
      "pressure_rating     22659 non-null category\n",
      "pipe_material       22776 non-null category\n",
      "damage_code         22498 non-null category\n",
      "cause_code          22439 non-null category\n",
      "object_part_code    23021 non-null category\n",
      "location            23020 non-null category\n",
      "suburb              22724 non-null category\n",
      "dtypes: category(9), float64(1)\n",
      "memory usage: 432.8 KB\n"
     ]
    },
    {
     "name": "stderr",
     "output_type": "stream",
     "text": [
      "/anaconda3/envs/week01/lib/python3.6/site-packages/pandas/io/feather_format.py:112: FutureWarning: `nthreads` argument is deprecated, pass `use_threads` instead\n",
      "  return feather.read_dataframe(path, nthreads=nthreads)\n"
     ]
    }
   ],
   "source": [
    "pd.read_feather(feather_file).info()"
   ]
  },
  {
   "cell_type": "markdown",
   "metadata": {},
   "source": [
    "Notice that our categories are being maintained which is nice. \n",
    "\n",
    "As an aside you could now take this data over to R if you are more comfortable in that environment. To load the dataframe in R you could use something like:\n",
    "\n",
    "```R\n",
    "# install.packages(\"feather\")\n",
    "library(feather)\n",
    "clean <- read_feather('/path/to/faults_data_2010_2016.feather')\n",
    "```"
   ]
  },
  {
   "cell_type": "code",
   "execution_count": null,
   "metadata": {},
   "outputs": [],
   "source": []
  }
 ],
 "metadata": {
  "kernelspec": {
   "display_name": "Python 3",
   "language": "python",
   "name": "python3"
  },
  "language_info": {
   "codemirror_mode": {
    "name": "ipython",
    "version": 3
   },
   "file_extension": ".py",
   "mimetype": "text/x-python",
   "name": "python",
   "nbconvert_exporter": "python",
   "pygments_lexer": "ipython3",
   "version": "3.6.6"
  }
 },
 "nbformat": 4,
 "nbformat_minor": 2
}
